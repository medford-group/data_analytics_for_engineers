{
 "cells": [
  {
   "cell_type": "markdown",
   "metadata": {},
   "source": [
    "# Lecture 0 - Data Analytics for Engineers\n",
    "\n",
    "<center>\n",
    "<img src=\"images/analytics_overview.jpg\" width=\"600\">\n",
    "</center>"
   ]
  },
  {
   "cell_type": "markdown",
   "metadata": {},
   "source": [
    "## Key questions for the course:\n",
    "\n",
    "* What is \"data analytics\"?\n",
    "  - Why do engineers care?\n",
    "* What is \"big data\"?\n",
    "* What is \"machine learning\"?\n",
    "* Will students be \"data scientists\" after this class?"
   ]
  },
  {
   "cell_type": "markdown",
   "metadata": {},
   "source": [
    "## What is Data Analytics?\n",
    "\n",
    "According to [Wikipedia](https://en.wikipedia.org/wiki/Data_analysis) data analysis is the \"process of inspecting, cleansing, transforming, and modeling data with the goal of discovering useful information, informing conclusions, and supporting decision-making\".\n",
    "\n",
    "For the purpose of this class, \"data analysis\" = \"data analytics\" = \"data science\" = \"data mining\".\n",
    "\n",
    "### Why should engineers care?\n",
    "\n",
    "* Many engineering problems involve using data to make decisions\n",
    "  - Statistical models can be easier to develop than physical models\n",
    "\n",
    "* Engineers will need to work increasingly closely with statisticians, analysts, and data scientists.\n",
    "  - Knowing the \"language\" of data analytics enables communication."
   ]
  },
  {
   "cell_type": "markdown",
   "metadata": {},
   "source": [
    "## What is \"big data\"?\n",
    "\n",
    "Nobody really knows, but according to McKinsey and NIST: Big datasets are \"datasets whose size is beyond the ability of typical database software tools to capture, store, manage, and analyze.\"\n",
    "\n",
    "This means that the definition of \"big\" data varies by the \"typical database software tools\" that are used in a particular field.\n",
    "\n",
    "Most engineers rely primarily on Excel for data storage and analysis. Assuming Excel is the typical tool, what might constitute \"big data\" for engineers?"
   ]
  },
  {
   "cell_type": "markdown",
   "metadata": {},
   "source": [
    "## What is \"machine learning\"?\n",
    "\n",
    "According to [Wikipedia](https://en.wikipedia.org/wiki/Machine_learning) machine learning is the use of \"statistical techniques to give computers the ability to \"learn\" (i.e., progressively improve performance on a specific task) with data, without being explicitly programmed.\"\n",
    "\n",
    "This is not very specific - this would include linear regression! A more specific definition is \"the use of statistical techniques to quantitatively optimize the complexity of a data-driven model\". This is a concept that we will discuss in the course.\n",
    "\n",
    "<center>\n",
    "<img src=\"images/overfitting.png\" width=\"600\">\n",
    "</center>\n",
    "\n",
    "* Simplest possible model: Assume the answer is a constant.\n",
    "   - Problem: This is usually wrong! The model has not learned anything (underfitting).\n",
    "   \n",
    "* Most complex possible mode: Fit a line that goes through all points.\n",
    "   - Problem: The information will not generalize to new points. The model has memorized the data (overfitting).\n",
    "   \n",
    "* Optimum complexity model: \n",
    "   - The model is (approximately) correct for data it has seen, and can generalize to new data. This is learning!\n",
    "   \n",
    "We will discuss a number of machine learning models, and how to optimize their complexity, in this course. We will **not** cover neural networks or \"deep learning\", but will try to explain them conceptually. "
   ]
  },
  {
   "cell_type": "markdown",
   "metadata": {},
   "source": [
    "## Will students be \"data scientists\" after this class?\n",
    "\n",
    "No.\n",
    "\n",
    "Data analytics includes statistics, machine learning, database design, data visualization and many other topics. This course will **not** make you an expert in these topics, but will give you an idea of the basics and provide literacy in the jargon and methods that are commonly used.\n",
    "\n",
    "This course will help you decide if you want to learn more about data science/analytics, but more study and experience will certaily be needed before you can call yourself a \"data scientist\"."
   ]
  },
  {
   "cell_type": "markdown",
   "metadata": {},
   "source": [
    "## Approach and Tools\n",
    "\n",
    "* Python programming language\n",
    "   - More versatile than Matlab (and much more versatile than Excel!)\n",
    "* Jupyter notebooks\n",
    "   - Enable integration of content with code (this is a Jupyter notebook)."
   ]
  },
  {
   "cell_type": "markdown",
   "metadata": {},
   "source": [
    "## What is Python?\n",
    "\n",
    "[Python](http://www.python.org/) is a modern, general-purpose, object-oriented, high-level programming language.\n",
    "\n",
    "General characteristics of Python:\n",
    "* **clean and simple language:** Easy-to-read and intuitive code, easy-to-learn minimalistic syntax, maintainability scales well with size of projects.\n",
    "* **expressive language:** Fewer lines of code, fewer bugs, easier to maintain."
   ]
  },
  {
   "cell_type": "code",
   "execution_count": 5,
   "metadata": {},
   "outputs": [
    {
     "name": "stdout",
     "output_type": "stream",
     "text": [
      "10.0\n"
     ]
    }
   ],
   "source": [
    "#This is Python code!\n",
    "x = 2.0\n",
    "y = 3+2\n",
    "print(x*y)"
   ]
  },
  {
   "cell_type": "markdown",
   "metadata": {},
   "source": [
    "## Why are we using Python?\n",
    "\n",
    "* Python is commonly used for data analysis, and is growing rapidly\n",
    "* Python is a full programming language\n",
    "\n",
    "<center>\n",
    "<img src=\"images/python-growth.png\" width=\"600\">\n",
    "</center>"
   ]
  },
  {
   "cell_type": "markdown",
   "metadata": {},
   "source": [
    "# Python vs. Matlab\n",
    "\n",
    "<center>\n",
    "<img src=\"images/python-vs-matlab.png\" width=\"800\">\n",
    "</center>\n",
    "\n",
    "[Python vs. Matlab details](http://www.pyzo.org/python_vs_matlab.html)\n",
    "\n",
    "### Advantages:\n",
    "* Flexibility and portability\n",
    "* Free and open source\n",
    "* Huge and supportive community\n",
    "\n",
    "### Disadvantages\n",
    "* Speed and efficiency\n",
    "* Hard to install and manage versions\n",
    "* No integrated IDE (see [Spyder](https://pythonhosted.org/spyder/), etc.)"
   ]
  },
  {
   "cell_type": "markdown",
   "metadata": {},
   "source": [
    "## Python vs. Compiled (C++, Fortran):\n",
    "\n",
    "<center>\n",
    "<img src=\"images/optimizing-what.png\" width=\"600\">\n",
    "</center>\n",
    "\n",
    "### Advantages:\n",
    "* Fast development time\n",
    "* Easy to read/write/maintain\n",
    "\n",
    "### Disadvantages:\n",
    "* Speed/efficiency"
   ]
  },
  {
   "cell_type": "markdown",
   "metadata": {},
   "source": [
    "## Homework 0: \"Due\" Thursday 8/23\n",
    "\n",
    "Install Python, Jupyter, and OpenRefine on your computer. Install the `numpy`, `scipy`, `pandas`, `matplotlib`, and `seaborn` packages. If successful, you should be able to open this file and execute the block below, and you should be able to open the OpenRefine GUI from a desktop link.\n",
    "\n",
    "This homework will not be collected, but you will need it to complete your next homework, and follow along in the next lecture.\n",
    "\n",
    "The easiest way to achieve this is to install the [Anaconda](https://conda.io/docs/user-guide/install/index.html) suite, which contains Python and Jupyter, and you can easily install additional packages using `conda install ...`. These [instructions](https://datacarpentry.org/OpenRefine-ecology-lesson/setup.html) from Data Carpentry will be useful for OpenRefine."
   ]
  },
  {
   "cell_type": "code",
   "execution_count": 6,
   "metadata": {},
   "outputs": [
    {
     "name": "stdout",
     "output_type": "stream",
     "text": [
      "All packages successfully installed\n"
     ]
    }
   ],
   "source": [
    "import numpy as np\n",
    "import scipy\n",
    "import pandas\n",
    "import matplotlib\n",
    "import seaborn\n",
    "\n",
    "print(\"All packages successfully installed\")"
   ]
  },
  {
   "cell_type": "markdown",
   "metadata": {},
   "source": [
    "## Bonus: Set up a dedicated `conda` environment\n",
    "\n",
    "Python package management can be tricky. If you already use Python you may want to create a dedicated \"environment\" for the packages we will use in this course. You can read more about this here:\n",
    "\n",
    "https://conda.io/docs/user-guide/tasks/manage-environments.html"
   ]
  },
  {
   "cell_type": "markdown",
   "metadata": {},
   "source": [
    "## Need Help?\n",
    "\n",
    "Ray and Aish will run a hands-on workshop to help work out any kinks in software installation and go over the basics of Python. This will be Friday 8/24 from 10am-12pm in Whitaker 1103 BME Classroom."
   ]
  }
 ],
 "metadata": {
  "kernelspec": {
   "display_name": "Python 3",
   "language": "python",
   "name": "python3"
  },
  "language_info": {
   "codemirror_mode": {
    "name": "ipython",
    "version": 3
   },
   "file_extension": ".py",
   "mimetype": "text/x-python",
   "name": "python",
   "nbconvert_exporter": "python",
   "pygments_lexer": "ipython3",
   "version": "3.6.3"
  }
 },
 "nbformat": 4,
 "nbformat_minor": 2
}
