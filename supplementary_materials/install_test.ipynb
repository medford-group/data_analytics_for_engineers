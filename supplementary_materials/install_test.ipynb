{
 "cells": [
  {
   "cell_type": "markdown",
   "metadata": {},
   "source": [
    "This course will use the Python programming language, and lectures and homeworks will be run using Jupyter notebook environments like this one. It is strongly recommended that you install Python and Jupyter on your own laptops so that you can follow along in class. This is most easily achieved by using the \"Anaconda\" package. [Installation instructions](https://docs.anaconda.com/anaconda/install/) are available for Windows, Mac, and Linux.\n",
    "\n",
    "Once you have installed Anaconda, you can install Python 3.6 using the following command:\n",
    "\n",
    "`conda install python=3.6.0`\n",
    "\n",
    "You will also need to install several additional packages for the first lecture. You can do this using `conda` as well:\n",
    "\n",
    "`conda install numpy scipy matplotlib pandas`\n",
    "\n",
    "You may also wish to [create an \"environment\"](https://conda.io/projects/conda/en/latest/user-guide/getting-started.html#managing-python) specific to this course, but this is not required.\n",
    "\n",
    "You can test that everything worked by running the next block (use `shift+Enter`):"
   ]
  },
  {
   "cell_type": "code",
   "execution_count": 1,
   "metadata": {},
   "outputs": [],
   "source": [
    "import numpy as np\n",
    "import pandas as pd\n",
    "from matplotlib import pylab as plt\n",
    "from scipy.optimize import minimize"
   ]
  },
  {
   "cell_type": "markdown",
   "metadata": {},
   "source": [
    "If you have trouble, you can also work with the notebooks through Google's \"Colab\": https://colab.research.google.com/\n",
    "\n",
    "When you c"
   ]
  },
  {
   "cell_type": "code",
   "execution_count": null,
   "metadata": {},
   "outputs": [],
   "source": []
  }
 ],
 "metadata": {
  "kernelspec": {
   "display_name": "Python 3",
   "language": "python",
   "name": "python3"
  },
  "language_info": {
   "codemirror_mode": {
    "name": "ipython",
    "version": 3
   },
   "file_extension": ".py",
   "mimetype": "text/x-python",
   "name": "python",
   "nbconvert_exporter": "python",
   "pygments_lexer": "ipython3",
   "version": "3.6.3"
  },
  "toc": {
   "base_numbering": 1,
   "nav_menu": {},
   "number_sections": true,
   "sideBar": true,
   "skip_h1_title": false,
   "title_cell": "Table of Contents",
   "title_sidebar": "Contents",
   "toc_cell": false,
   "toc_position": {},
   "toc_section_display": true,
   "toc_window_display": false
  }
 },
 "nbformat": 4,
 "nbformat_minor": 2
}
