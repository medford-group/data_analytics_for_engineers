{
 "cells": [
  {
   "cell_type": "markdown",
   "metadata": {
    "toc": true
   },
   "source": [
    "<h1>Table of Contents<span class=\"tocSkip\"></span></h1>\n",
    "<div class=\"toc\"><ul class=\"toc-item\"><li><span><a href=\"#Least-Squares-Regression\" data-toc-modified-id=\"Least-Squares-Regression-1\"><span class=\"toc-item-num\">1&nbsp;&nbsp;</span>Least-Squares Regression</a></span><ul class=\"toc-item\"><li><span><a href=\"#Importing-Libraries-and-Managing-Environments\" data-toc-modified-id=\"Importing-Libraries-and-Managing-Environments-1.1\"><span class=\"toc-item-num\">1.1&nbsp;&nbsp;</span>Importing Libraries and Managing Environments</a></span></li><li><span><a href=\"#Creating-vectors-and-basic-plots\" data-toc-modified-id=\"Creating-vectors-and-basic-plots-1.2\"><span class=\"toc-item-num\">1.2&nbsp;&nbsp;</span>Creating vectors and basic plots</a></span><ul class=\"toc-item\"><li><span><a href=\"#Exercise:-Write-code-that-extracts-the-$i^{th}$-value-from-$x$-and-$y$-(5-points)\" data-toc-modified-id=\"Exercise:-Write-code-that-extracts-the-$i^{th}$-value-from-$x$-and-$y$-(5-points)-1.2.1\"><span class=\"toc-item-num\">1.2.1&nbsp;&nbsp;</span>Exercise: Write code that extracts the $i^{th}$ value from $x$ and $y$ (5 points)</a></span></li></ul></li><li><span><a href=\"#Gaussian-distributions\" data-toc-modified-id=\"Gaussian-distributions-1.3\"><span class=\"toc-item-num\">1.3&nbsp;&nbsp;</span>Gaussian distributions</a></span><ul class=\"toc-item\"><li><span><a href=\"#Exercise:-Create-a-new-dataset-for-linear-regression-(5-points)\" data-toc-modified-id=\"Exercise:-Create-a-new-dataset-for-linear-regression-(5-points)-1.3.1\"><span class=\"toc-item-num\">1.3.1&nbsp;&nbsp;</span>Exercise: Create a new dataset for linear regression (5 points)</a></span></li></ul></li><li><span><a href=\"#Derivation-of-Least-Squares-regression\" data-toc-modified-id=\"Derivation-of-Least-Squares-regression-1.4\"><span class=\"toc-item-num\">1.4&nbsp;&nbsp;</span>Derivation of Least-Squares regression</a></span><ul class=\"toc-item\"><li><span><a href=\"#Discussion:-What-are-the-independent-variables-in-this-problem?\" data-toc-modified-id=\"Discussion:-What-are-the-independent-variables-in-this-problem?-1.4.1\"><span class=\"toc-item-num\">1.4.1&nbsp;&nbsp;</span>Discussion: What are the independent variables in this problem?</a></span></li><li><span><a href=\"#Exercise:-Compute-the-slope-and-intercept-for-the-$x$-and-$y$-dataset-defined-below-using-the-formulas-above.-Compare-the-results-to-the-actual-slope-and-intercept-by-computing-a-percent-error-(10-points)\" data-toc-modified-id=\"Exercise:-Compute-the-slope-and-intercept-for-the-$x$-and-$y$-dataset-defined-below-using-the-formulas-above.-Compare-the-results-to-the-actual-slope-and-intercept-by-computing-a-percent-error-(10-points)-1.4.2\"><span class=\"toc-item-num\">1.4.2&nbsp;&nbsp;</span>Exercise: Compute the slope and intercept for the $x$ and $y$ dataset defined below using the formulas above. Compare the results to the actual slope and intercept by computing a percent error (10 points)</a></span></li></ul></li><li><span><a href=\"#Assessing-Model-Accuracy\" data-toc-modified-id=\"Assessing-Model-Accuracy-1.5\"><span class=\"toc-item-num\">1.5&nbsp;&nbsp;</span>Assessing Model Accuracy</a></span></li><li><span><a href=\"#Polynomial-Least-Squares-Regression-Derivation\" data-toc-modified-id=\"Polynomial-Least-Squares-Regression-Derivation-1.6\"><span class=\"toc-item-num\">1.6&nbsp;&nbsp;</span>Polynomial Least-Squares Regression Derivation</a></span><ul class=\"toc-item\"><li><span><a href=\"#Exercise:-Construct-a-matrix,-$X_{ij}$-for-a-5th-order-polynomial-model-from-the-$x$-vector-given-below-(5-points)\" data-toc-modified-id=\"Exercise:-Construct-a-matrix,-$X_{ij}$-for-a-5th-order-polynomial-model-from-the-$x$-vector-given-below-(5-points)-1.6.1\"><span class=\"toc-item-num\">1.6.1&nbsp;&nbsp;</span>Exercise: Construct a matrix, $X_{ij}$ for a 5th-order polynomial model from the $x$ vector given below (5 points)</a></span></li></ul></li><li><span><a href=\"#Matrix-Algebra\" data-toc-modified-id=\"Matrix-Algebra-1.7\"><span class=\"toc-item-num\">1.7&nbsp;&nbsp;</span>Matrix Algebra</a></span><ul class=\"toc-item\"><li><span><a href=\"#Exercise:-Write-a-Python-function-that-multiplies-two-matrices-based-on-the-header-below.-Do-not-use-anything-except-for-loops--(10-points).\" data-toc-modified-id=\"Exercise:-Write-a-Python-function-that-multiplies-two-matrices-based-on-the-header-below.-Do-not-use-anything-except-for-loops--(10-points).-1.7.1\"><span class=\"toc-item-num\">1.7.1&nbsp;&nbsp;</span>Exercise: Write a Python function that multiplies two matrices based on the header below. Do not use anything except for loops  (10 points).</a></span></li></ul></li><li><span><a href=\"#Linear-Systems-of-Equations\" data-toc-modified-id=\"Linear-Systems-of-Equations-1.8\"><span class=\"toc-item-num\">1.8&nbsp;&nbsp;</span>Linear Systems of Equations</a></span><ul class=\"toc-item\"><li><span><a href=\"#Exercise:-Write-a-Python-function-that-solves-a-linear-system-of-equations-using-Gaussian-Elimination-(15-points)\" data-toc-modified-id=\"Exercise:-Write-a-Python-function-that-solves-a-linear-system-of-equations-using-Gaussian-Elimination-(15-points)-1.8.1\"><span class=\"toc-item-num\">1.8.1&nbsp;&nbsp;</span>Exercise: Write a Python function that solves a linear system of equations using Gaussian Elimination (15 points)</a></span></li></ul></li><li><span><a href=\"#Polynomial-Least-Squares-Regression\" data-toc-modified-id=\"Polynomial-Least-Squares-Regression-1.9\"><span class=\"toc-item-num\">1.9&nbsp;&nbsp;</span>Polynomial Least-Squares Regression</a></span><ul class=\"toc-item\"><li><span><a href=\"#Discussion:-Does-$r^2=1$-mean-that-this-is-a-good-model?\" data-toc-modified-id=\"Discussion:-Does-$r^2=1$-mean-that-this-is-a-good-model?-1.9.1\"><span class=\"toc-item-num\">1.9.1&nbsp;&nbsp;</span>Discussion: Does $r^2=1$ mean that this is a good model?</a></span></li><li><span><a href=\"#Exercise:-Use-a-for-loop-to-plot-the-value-of-$r^2$-as-a-function-of-the-number-of-polynomials-for-this-dataset-(10-points)\" data-toc-modified-id=\"Exercise:-Use-a-for-loop-to-plot-the-value-of-$r^2$-as-a-function-of-the-number-of-polynomials-for-this-dataset-(10-points)-1.9.2\"><span class=\"toc-item-num\">1.9.2&nbsp;&nbsp;</span>Exercise: Use a for loop to plot the value of $r^2$ as a function of the number of polynomials for this dataset (10 points)</a></span></li></ul></li></ul></li><li><span><a href=\"#Features-and-covariance-matrices\" data-toc-modified-id=\"Features-and-covariance-matrices-2\"><span class=\"toc-item-num\">2&nbsp;&nbsp;</span>Features and covariance matrices</a></span><ul class=\"toc-item\"><li><ul class=\"toc-item\"><li><span><a href=\"#Discussion:-What-does-it-mean-if-two-features-are-nearly-linear-($x_{A}-\\approx-C-x_{B}$)?\" data-toc-modified-id=\"Discussion:-What-does-it-mean-if-two-features-are-nearly-linear-($x_{A}-\\approx-C-x_{B}$)?-2.0.1\"><span class=\"toc-item-num\">2.0.1&nbsp;&nbsp;</span>Discussion: What does it mean if two features are nearly linear ($x_{A} \\approx C x_{B}$)?</a></span></li><li><span><a href=\"#Exercise:-Show-that-the-correlation-matrix-is-equivalent-to-the-slope-of-a-linear-regression-analysis-between-each-of-the-feature-pairs-(10-points)\" data-toc-modified-id=\"Exercise:-Show-that-the-correlation-matrix-is-equivalent-to-the-slope-of-a-linear-regression-analysis-between-each-of-the-feature-pairs-(10-points)-2.0.2\"><span class=\"toc-item-num\">2.0.2&nbsp;&nbsp;</span>Exercise: Show that the correlation matrix is equivalent to the slope of a linear regression analysis between each of the feature pairs (10 points)</a></span></li></ul></li></ul></li><li><span><a href=\"#Eigenvalues-and-Singular-Values\" data-toc-modified-id=\"Eigenvalues-and-Singular-Values-3\"><span class=\"toc-item-num\">3&nbsp;&nbsp;</span>Eigenvalues and Singular Values</a></span></li><li><span><a href=\"#Generalized-Linear-Models\" data-toc-modified-id=\"Generalized-Linear-Models-4\"><span class=\"toc-item-num\">4&nbsp;&nbsp;</span>Generalized Linear Models</a></span></li><li><span><a href=\"#Non-linear-Regression\" data-toc-modified-id=\"Non-linear-Regression-5\"><span class=\"toc-item-num\">5&nbsp;&nbsp;</span>Non-linear Regression</a></span><ul class=\"toc-item\"><li><span><a href=\"#Numerical-optimization\" data-toc-modified-id=\"Numerical-optimization-5.1\"><span class=\"toc-item-num\">5.1&nbsp;&nbsp;</span>Numerical optimization</a></span></li></ul></li><li><span><a href=\"#Python-Classes\" data-toc-modified-id=\"Python-Classes-6\"><span class=\"toc-item-num\">6&nbsp;&nbsp;</span>Python Classes</a></span></li></ul></div>"
   ]
  },
  {
   "cell_type": "markdown",
   "metadata": {},
   "source": [
    "# Foundations of Data Analytics"
   ]
  },
  {
   "cell_type": "markdown",
   "metadata": {},
   "source": [
    "Data analytics is a topic that sits at the intersection of linear algebra, statistics, numerical methods, and computer programming. This course will not go deeply into any of these topics, and many of them should be topics you are familiar with, but it is useful to introduce some common terminology and review key concepts from these subjects.\n",
    "\n",
    "Furthermore, this course will utilize the Python programming language. Some of you may be familiar with Python, but others may have only worked with Matlab. Python is very similar to Matlab, but there are a few key differences and transitioning can take some effort. There is a nice [guide available for transitioning from MATLAB to Python](https://www.enthought.com/wp-content/uploads/Enthought-MATLAB-to-Python-White-Paper.pdf) which is strongly recommended for students who have not worked with Python before. We will not spend a lot of lecture time specifically discussing Python, but this lecture will introduce some important ideas and provide examples for using Python in data analytics. We will also hold extra help sessions, and encourage you to search internet resources like [Stack Overflow](https://stackoverflow.com/) and the official [Python tutorial](https://docs.python.org/3.6/tutorial/index.html) or work with more experience students to learn.\n",
    "\n",
    "All of these concepts will be introduced from the context of regression. We will start with a toy dataset, then work with an infrared spectrum."
   ]
  },
  {
   "cell_type": "markdown",
   "metadata": {},
   "source": [
    "## Least-Squares Regression\n",
    "\n",
    "The simplest type of regression is linear least-squares regression, and is likely familiar to all engineers. The form of the model is given as:\n",
    "\n",
    "$y = mx + b + \\epsilon$\n",
    "\n",
    "where the $y$ is the independent value, $x$ is the dependent value, $m$ is the slope of the line, and $b$ is the intercept. This can also be written with indices on the data:\n",
    "\n",
    "$y_i = mx_i + b + \\epsilon_i$\n",
    "\n",
    "where $i$ refers to the index of the data point (e.g. the first, second, third, ... data point). We can also think of these quantities as vectors:\n",
    "\n",
    "$\\vec{y} = m\\vec{x} + b + \\vec{\\epsilon}$\n",
    "\n",
    "These notations will be used interchangeably throughout the course, so you should familiarize yourself with how they are equivalent. It is also common to use $\\hat{y}$ to designate the model prediction (without any error):\n",
    "\n",
    "$\\hat{y}_i = mx_i + b = y_i - \\epsilon_i$\n",
    "\n",
    "Let's use Python to create some data using this form.\n",
    "\n"
   ]
  },
  {
   "cell_type": "markdown",
   "metadata": {},
   "source": [
    "### Importing Libraries and Managing Environments\n",
    "\n",
    "Before we can start creating or plotting data we need to understand some very basic things about how Python works. The Python programming language contains many features, and it also has the ability to be extended through the use of libraries. This is slightly different from MATLAB, where all functions and features are built in.\n",
    "\n",
    "Advantages:\n",
    "* Flexible\n",
    "* Lots of features\n",
    "\n",
    "Disadvantages:\n",
    "* Libraries must be imported/managed\n",
    "* Lack of standardization\n",
    "\n",
    "These libraries are hosted in different repositories, and must be installed and imported. Managing all of this can get rather tricky, and it is highly recommended that you us the [Anaconda](https://docs.anaconda.com/anaconda/install/) package for installing and managing Python. There are some additional [instructions](https://datacarpentry.org/OpenRefine-ecology-lesson/setup.html) provided by Software Carpentry to help you through this process. In this course we will use **Python 3.6**.\n",
    "\n",
    "Once you have everything installed correctly you should be able to launch and run this lecture on your own computer using the command `jupyter notebook` in your conda or operating system terminal.\n",
    "\n",
    "In this course we will use a variety of libraries, but the most basic are:\n",
    "\n",
    "* `numpy`: linear algebra and matrix manipulations. Many [MATLAB functions have `numpy` equivalents](https://docs.scipy.org/doc/numpy-1.15.0/user/numpy-for-matlab-users.html).\n",
    "\n",
    "* `scipy`: a collection of numerical methods algorithms useful for scientific analysis.\n",
    "\n",
    "* `matplotlib`: a plotting library for visualizing data.\n",
    "\n",
    "In order to use these libraries, we first need to install them. This can be acheived with one of two methods:\n",
    "\n",
    "`conda install numpy scipy matplotlib`\n",
    "\n",
    "`pip install numpy scipy matplotlib`\n",
    "\n",
    "There are slight differences between these two approaches, but they both work equally well in general. Typically `conda` is preferred, but many packages are only available via `pip`, so if `conda` can't find the package then try using `pip` instead.\n",
    "\n",
    "Finally, we can import the libraries:"
   ]
  },
  {
   "cell_type": "code",
   "execution_count": 1,
   "metadata": {},
   "outputs": [],
   "source": [
    "%matplotlib inline \n",
    "import numpy\n",
    "import scipy\n",
    "import matplotlib"
   ]
  },
  {
   "cell_type": "markdown",
   "metadata": {},
   "source": [
    "Nothing happens... and that is a good thing! If you don't have any errors then that means the packages are successfully installed.\n",
    "\n",
    "This import strategy works, but there are few more tricks we need to discuss. As you will see later, it becomes very annoying to constantly type the full name of all the libraries you want, so it is very standard to \"alias\" commonly used libraries:"
   ]
  },
  {
   "cell_type": "code",
   "execution_count": 2,
   "metadata": {},
   "outputs": [],
   "source": [
    "import numpy as np"
   ]
  },
  {
   "cell_type": "markdown",
   "metadata": {},
   "source": [
    "It is also common that you only want specific functions or sub-packages from a library. We can import them directly rather than importing the whole library:"
   ]
  },
  {
   "cell_type": "code",
   "execution_count": 3,
   "metadata": {},
   "outputs": [],
   "source": [
    "from matplotlib import pylab as plt"
   ]
  },
  {
   "cell_type": "markdown",
   "metadata": {},
   "source": [
    "You can read more about [import statements](https://docs.python.org/3.6/reference/import.html), but for now we have enough to do some plotting!"
   ]
  },
  {
   "cell_type": "markdown",
   "metadata": {},
   "source": [
    "### Creating vectors and basic plots\n",
    "\n",
    "Remember the functional form for our linear regression model:\n",
    "\n",
    "$y_i = mx_i + b + \\epsilon_i = \\hat{y}_i + \\epsilon_i$\n",
    "\n",
    "Let's use `numpy` to create some data for our dependent ($x$) variable and model prediction ($\\hat{y}$):"
   ]
  },
  {
   "cell_type": "code",
   "execution_count": 4,
   "metadata": {},
   "outputs": [
    {
     "name": "stdout",
     "output_type": "stream",
     "text": [
      "[ 0.          1.11111111  2.22222222  3.33333333  4.44444444  5.55555556\n",
      "  6.66666667  7.77777778  8.88888889 10.        ]\n",
      "[12.         14.77777778 17.55555556 20.33333333 23.11111111 25.88888889\n",
      " 28.66666667 31.44444444 34.22222222 37.        ]\n",
      "3.3333333333333335\n"
     ]
    }
   ],
   "source": [
    "m = 2.5 #arbitrarily choose m\n",
    "b = 12  #arbitrarily choos b\n",
    "x = np.linspace(0,10,10) #create a vector of 10 values ranging from 0 to 10\n",
    "yhat = m*x + b # create a dependent vector following the form of the model\n",
    "\n",
    "print(x)\n",
    "print(yhat)\n",
    "print(x[3])"
   ]
  },
  {
   "cell_type": "markdown",
   "metadata": {},
   "source": [
    "#### Exercise: Write code that extracts the $i^{th}$ value from $x$ and $y$ (5 points)\n",
    "\n",
    "**Hint:** Python starts indexing from 0 "
   ]
  },
  {
   "cell_type": "code",
   "execution_count": 5,
   "metadata": {},
   "outputs": [],
   "source": [
    "i = 4\n",
    "#write code here"
   ]
  },
  {
   "cell_type": "markdown",
   "metadata": {},
   "source": [
    "**End Exercise**"
   ]
  },
  {
   "cell_type": "markdown",
   "metadata": {},
   "source": [
    "Now we can plot the data using `matplotlib`:"
   ]
  },
  {
   "cell_type": "code",
   "execution_count": 6,
   "metadata": {},
   "outputs": [
    {
     "data": {
      "text/plain": [
       "[<matplotlib.lines.Line2D at 0x7f84801a75c0>]"
      ]
     },
     "execution_count": 6,
     "metadata": {},
     "output_type": "execute_result"
    },
    {
     "data": {
      "image/png": "[encoded data removed]",
      "text/plain": [
       "<Figure size 432x288 with 1 Axes>"
      ]
     },
     "metadata": {
      "needs_background": "light"
     },
     "output_type": "display_data"
    }
   ],
   "source": [
    "fig = plt.figure()\n",
    "ax = fig.subplots()\n",
    "ax.plot(x,yhat)"
   ]
  },
  {
   "cell_type": "markdown",
   "metadata": {},
   "source": [
    "As expected, this looks like a line. We can use arguments similar to MATLAB to change the style:"
   ]
  },
  {
   "cell_type": "code",
   "execution_count": 7,
   "metadata": {},
   "outputs": [
    {
     "data": {
      "text/plain": [
       "[<matplotlib.lines.Line2D at 0x7f847c9c86d8>]"
      ]
     },
     "execution_count": 7,
     "metadata": {},
     "output_type": "execute_result"
    },
    {
     "data": {
      "image/png": "[encoded data removed]",
      "text/plain": [
       "<Figure size 432x288 with 1 Axes>"
      ]
     },
     "metadata": {
      "needs_background": "light"
     },
     "output_type": "display_data"
    }
   ],
   "source": [
    "fig = plt.figure()\n",
    "ax = fig.subplots()\n",
    "ax.plot(x,yhat, marker='o', linestyle='none', color='r')"
   ]
  },
  {
   "cell_type": "markdown",
   "metadata": {},
   "source": [
    "This looks like a line, as expected. However, it doesn't look like real data. We are missing the error term, $\\epsilon_i$."
   ]
  },
  {
   "cell_type": "markdown",
   "metadata": {},
   "source": [
    "### Gaussian distributions\n",
    "\n",
    "The error term, $\\epsilon_i$ is a little trickier. This represents the error between the model and the actual data. In real situations this is not known beforehand, but since we are generating our own data we need to create the error term. The error should be random, so we need to draw it from a probability distribution.\n",
    "\n",
    "We don't have time to go into probability theory, but hopefully you remember the concept of a probability distribution, and their basic properties:\n",
    "\n",
    "* Probability distributions cannot be negative (negative probabilities don't make sense)\n",
    "* Probability distributions must integrate to 1 (the probability of *something* happening is 100%)\n",
    "\n",
    "There are many types of probability distributions, including:\n",
    "\n",
    "* [Uniform distribution](https://en.wikipedia.org/wiki/Uniform_distribution_(continuous))\n",
    "* [Poisson distribution](https://en.wikipedia.org/wiki/Poisson_distribution)\n",
    "* [Gamma distribution](https://en.wikipedia.org/wiki/Gamma_distribution)\n",
    "* [Cauchy or Lorentz distribution](https://en.wikipedia.org/wiki/Cauchy_distribution)\n",
    "* [Gaussian or \"Normal\" distribution](https://en.wikipedia.org/wiki/Normal_distribution)\n",
    "\n",
    "The most common of these, and the one we will use here, is the Gaussian or \"normal\" distribution. Mathematically, the Gaussian distribution is expressed as:\n",
    "\n",
    "$\\frac{1}{2\\pi\\sigma^2}\\exp\\left(-\\frac{(x-\\mu)^2}{2\\sigma^2}\\right)$\n",
    "\n",
    "where $\\mu$ is the [mean](https://en.wikipedia.org/wiki/Mean) of the distribution and $\\sigma$ is the [standard deviation](https://en.wikipedia.org/wiki/Standard_deviation) of the distribution (you should review these concepts if you don't remember them!).\n",
    "\n",
    "We can use Python to plot this:"
   ]
  },
  {
   "cell_type": "code",
   "execution_count": 8,
   "metadata": {},
   "outputs": [
    {
     "data": {
      "text/plain": [
       "Text(0, 0.5, 'P(x)')"
      ]
     },
     "execution_count": 8,
     "metadata": {},
     "output_type": "execute_result"
    },
    {
     "data": {
      "image/png": "[encoded data removed]",
      "text/plain": [
       "<Figure size 432x288 with 1 Axes>"
      ]
     },
     "metadata": {
      "needs_background": "light"
     },
     "output_type": "display_data"
    }
   ],
   "source": [
    "mu = 0\n",
    "sigma = 1\n",
    "x1 = np.linspace(-3,3, 100)\n",
    "f = 1./np.sqrt(2*np.pi*sigma**2) * np.exp(-(x1-mu)**2/(2*sigma**2))\n",
    "\n",
    "fig, ax = plt.subplots()\n",
    "ax.plot(x1,f)\n",
    "ax.set_xlabel('x')\n",
    "ax.set_ylabel('P(x)')"
   ]
  },
  {
   "cell_type": "markdown",
   "metadata": {},
   "source": [
    "However, in this case what we want are samples drawn from a normal distribution. This is a little trickier to do from scratch, but luckily `numpy` has [a function](https://docs.scipy.org/doc/numpy-1.15.0/reference/generated/numpy.random.normal.html) to help us:"
   ]
  },
  {
   "cell_type": "code",
   "execution_count": 9,
   "metadata": {},
   "outputs": [
    {
     "data": {
      "text/plain": [
       "Text(0, 0.5, 'P(x)')"
      ]
     },
     "execution_count": 9,
     "metadata": {},
     "output_type": "execute_result"
    },
    {
     "data": {
      "image/png": "[encoded data removed]",
      "text/plain": [
       "<Figure size 432x288 with 1 Axes>"
      ]
     },
     "metadata": {
      "needs_background": "light"
     },
     "output_type": "display_data"
    }
   ],
   "source": [
    "np.random.seed(seed=0) #<- This makes the same random numbers get chosen each time.\n",
    "norm_dist = np.random.normal(mu, sigma, size=500)\n",
    "fig, ax = plt.subplots()\n",
    "ax.hist(norm_dist, density=True, alpha=0.5)\n",
    "ax.plot(x1,f)\n",
    "ax.set_xlabel('x')\n",
    "ax.set_ylabel('P(x)')"
   ]
  },
  {
   "cell_type": "markdown",
   "metadata": {},
   "source": [
    "Now we can use this to create some error, $\\epsilon_i$. We will set the mean of the error to zero, and the standard deviation to 2:"
   ]
  },
  {
   "cell_type": "code",
   "execution_count": 10,
   "metadata": {},
   "outputs": [
    {
     "data": {
      "text/plain": [
       "[<matplotlib.lines.Line2D at 0x7f847c17c470>]"
      ]
     },
     "execution_count": 10,
     "metadata": {},
     "output_type": "execute_result"
    },
    {
     "data": {
      "image/png": "[encoded data removed]",
      "text/plain": [
       "<Figure size 432x288 with 1 Axes>"
      ]
     },
     "metadata": {
      "needs_background": "light"
     },
     "output_type": "display_data"
    }
   ],
   "source": [
    "np.random.seed(seed=0)\n",
    "epsilon = np.random.normal(0,2,size=10)\n",
    "y = m*x + b + epsilon\n",
    "fig, ax = plt.subplots()\n",
    "ax.plot(x, y, marker='o', color='k', linestyle='none')\n",
    "ax.plot(x, yhat)"
   ]
  },
  {
   "cell_type": "markdown",
   "metadata": {},
   "source": [
    "#### Exercise: Create a new dataset for linear regression (5 points)\n",
    "\n",
    "The dataset should follow a linear model with a slope of 0.25 and an intercept of -0.1. The error should be normally distributed with a standard deviation of 0.2. The dataset should have 100 datapoints ranging from -1 to 1."
   ]
  },
  {
   "cell_type": "markdown",
   "metadata": {},
   "source": [
    "**End Exercise**"
   ]
  },
  {
   "cell_type": "markdown",
   "metadata": {},
   "source": [
    "### Derivation of Least-Squares regression\n",
    "\n",
    "In this case we know the slope and intercept because we created the dataset. However, in data analysis the goal is to find the slope and intercept given the data. The most common way to do this is with least-squares regression. The idea is simple: We want to minimize the sum of the squared error between the model and the data.\n",
    "\n",
    "First, we set up an \"objective function\" or \"loss function\" that quantifies the sum of squared errors:\n",
    "\n",
    "$L = \\sum_i \\epsilon_i^2$\n",
    "\n",
    "Now, we can solve for $\\epsilon_i$ from the model:\n",
    "\n",
    "$\\epsilon_i = y_i - mx_i - b$\n",
    "\n",
    "and substitute:\n",
    "\n",
    "$L = \\sum_i (y_i - mx_i -b)^2$"
   ]
  },
  {
   "cell_type": "markdown",
   "metadata": {},
   "source": [
    "#### Discussion: What are the independent variables in this problem?"
   ]
  },
  {
   "cell_type": "markdown",
   "metadata": {},
   "source": [
    "Our goal is to minimize the loss function, $L(m,b)$ so that we get the least possible value for the sum of squared errors - hence the name *least squares* regression.\n",
    "\n",
    "Hopefully you remember from calculus that we can find the minimum and maximum of a function by setting its derivatives equal to zero:\n",
    "\n",
    "$\\frac{\\partial L}{\\partial m} = 0$\n",
    "\n",
    "$\\frac{\\partial L}{\\partial b} = 0$\n",
    "\n",
    "Calculating these derivatives is a little tedious, but its just basic calculus and algebra in the end. There is a good [walkthrough here](https://towardsdatascience.com/linear-regression-derivation-d362ea3884c2) if you want to see all the steps. The final result is:\n",
    "\n",
    "$\\frac{\\partial L}{\\partial b} = -2 \\sum_i (y_i - mx_i -b) = 0$\n",
    "\n",
    "$\\frac{\\partial L}{\\partial b} =  \\sum_i -2x_i (y_i - mx_i -b) = 0$\n",
    "\n",
    "Manipulating the first expression yields:\n",
    "\n",
    "$b = \\sum_i (y_i - mx_i)/n = \\bar{y} - m\\bar{x}$\n",
    "\n",
    "where $n$ is the number of samples and $\\bar{x}$ and $\\bar{y}$ are the average of $x_i$ and $y_i$.\n",
    "\n",
    "Manipulating the second expression is a little tougher, but ultimately yields:\n",
    "\n",
    "$m = \\frac{\\sum_i^n (x_i y_i - \\bar{y}x_i)}{\\sum_i^n (x_i^2 - \\bar{x}x_i)}$"
   ]
  },
  {
   "cell_type": "markdown",
   "metadata": {},
   "source": [
    "#### Exercise: Compute the slope and intercept for the $x$ and $y$ dataset defined below using the formulas above. Compare the results to the actual slope and intercept by computing a percent error (10 points)"
   ]
  },
  {
   "cell_type": "code",
   "execution_count": 11,
   "metadata": {},
   "outputs": [],
   "source": [
    "np.random.seed(0)\n",
    "x = np.linspace(0,4,25)\n",
    "y = 1.35*x + 2.1 + np.random.normal(0, 0.3, 25)\n",
    "#insert code here"
   ]
  },
  {
   "cell_type": "markdown",
   "metadata": {},
   "source": [
    "**End Exercise**"
   ]
  },
  {
   "cell_type": "markdown",
   "metadata": {},
   "source": [
    "We can also use the [`linregress` function](https://docs.scipy.org/doc/scipy-0.14.0/reference/generated/scipy.stats.linregress.html) from `scipy` to find the slope and intercept:"
   ]
  },
  {
   "cell_type": "code",
   "execution_count": 12,
   "metadata": {},
   "outputs": [
    {
     "name": "stdout",
     "output_type": "stream",
     "text": [
      "m: 1.274, b: 2.395\n"
     ]
    }
   ],
   "source": [
    "from scipy.stats import linregress\n",
    "m, b, r, p, std_slope = linregress(x,y)\n",
    "print('m: {:.3f}, b: {:.3f}'.format(m,b))"
   ]
  },
  {
   "cell_type": "markdown",
   "metadata": {},
   "source": [
    "**Note:** You can see some examples of how to format strings in Python [here](https://mkaz.blog/code/python-string-format-cookbook/).\n",
    "\n",
    "These numbers should agree with the ones you computed above. We also see that the `linregress` function returns some other information (stored as `r`, `p`, and `stderr` above). This provides information about the accuracy of the model. "
   ]
  },
  {
   "cell_type": "markdown",
   "metadata": {},
   "source": [
    "### Assessing Model Accuracy\n",
    "\n",
    "Now that we have solved the regression problem, we need some way of determining the quality of our solution. One very basic thing to consider, before even performing a regression analysis, is whether the data fits the assumptions of the model. In the case of linear regression, our assumptions are:\n",
    "\n",
    "* linear relationship between variables\n",
    "* normally distributed residuals\n",
    "* homoscedastic residuals\n",
    "\n",
    "The last two relate to the nature of the error distribution for the residuals, $\\epsilon_i$. It should follow a normal distribution, and \"homoskedastic\" is just a fancy way of saying that the standard deviation of the normal distribution does not vary with the independent variable. We can get a good sense for all of these by plotting the data along with the fit and the error:"
   ]
  },
  {
   "cell_type": "code",
   "execution_count": 13,
   "metadata": {},
   "outputs": [
    {
     "data": {
      "text/plain": [
       "Text(0, 0.5, 'counts')"
      ]
     },
     "execution_count": 13,
     "metadata": {},
     "output_type": "execute_result"
    },
    {
     "data": {
      "image/png": "[encoded data removed]",
      "text/plain": [
       "<Figure size 864x288 with 3 Axes>"
      ]
     },
     "metadata": {
      "needs_background": "light"
     },
     "output_type": "display_data"
    }
   ],
   "source": [
    "fig, axes = plt.subplots(1,3,figsize=(12,4))\n",
    "axes[0].plot(x,y,marker='o',linestyle='none',color='r')\n",
    "axes[0].plot(x, m*x +b, color='k')\n",
    "axes[0].set_xlabel('x')\n",
    "axes[0].set_ylabel('y')\n",
    "axes[1].plot(x, y-m*x-b, linestyle='none', color='b', marker='o')\n",
    "axes[1].set_xlabel('x')\n",
    "axes[1].set_ylabel('$\\epsilon$', fontsize=14)\n",
    "axes[2].hist(y-m*x-b)\n",
    "axes[2].set_xlabel('$\\epsilon$')\n",
    "axes[2].set_ylabel('counts')"
   ]
  },
  {
   "cell_type": "markdown",
   "metadata": {},
   "source": [
    "Plotting your data and the error distribution is one of the quickest ways to see if the model is reasonable or not. In this case, we can see that there is a clear linear relationship between the variables, and that the model captures this relationship. We can also see that the error is reasonably normally distributed, and that the scatter does not seem to vary much as a function of $x$. None of this should be a surprise if you were paying attention to how the data was generated!\n",
    "\n",
    "There are also a few other metrics we can use to assess the quality of the model. The most common one is the \"r-squared\" value. The best way to think of this is a percent difference in the sum of squared error between the model and the average value of $y$:\n",
    "\n",
    "$r^2 = \\frac{\\sum_i (y_i - \\bar{y})^2 - \\sum_i (y_i - mx_i -b)^2}{\\sum_i (y_i - \\bar{y})^2} = \\frac{L(m,b)- \\sum_i (y_i - \\bar{y})^2}{\\sum_i (y_i - \\bar{y})^2}$\n",
    "\n",
    "We can calculate this and compare it to the Python output:"
   ]
  },
  {
   "cell_type": "code",
   "execution_count": 14,
   "metadata": {},
   "outputs": [
    {
     "name": "stdout",
     "output_type": "stream",
     "text": [
      "r^2: 0.961\n",
      "r^2 from scipy: 0.961\n"
     ]
    }
   ],
   "source": [
    "L = np.sum((y-m*x-b)**2)\n",
    "ydiff = np.sum((y-np.mean(y))**2)\n",
    "r2 = (ydiff-L)/(ydiff)\n",
    "\n",
    "print('r^2: {:.3f}'.format(r2))\n",
    "print('r^2 from scipy: {:.3f}'.format(r**2))"
   ]
  },
  {
   "cell_type": "markdown",
   "metadata": {},
   "source": [
    "We can see that our results agree with the built-in implementation. It is worth noting that the two terms we used when computing $r^2$ are often called the \"sum of squared errors\" (SSE) and the \"total sum of squares\" (SST) in statistics:\n",
    "\n",
    "$SSE = L = \\sum_i (y_i - mx_i -b)^2$\n",
    "\n",
    "$SST = \\sum_i (y_i - \\bar{y})^2$\n",
    "\n",
    "We also have a few other outputs from the `linregress` function. The `p` is the $p$-value, which gives the probability that the coefficient is not zero:"
   ]
  },
  {
   "cell_type": "code",
   "execution_count": 15,
   "metadata": {},
   "outputs": [
    {
     "name": "stdout",
     "output_type": "stream",
     "text": [
      "1.0235018564102844e-17\n"
     ]
    }
   ],
   "source": [
    "print(p)"
   ]
  },
  {
   "cell_type": "markdown",
   "metadata": {},
   "source": [
    "We can see that this is exceedingly small (less than one in a quadrillion), indicating that there is a very significant relationship between $x$ and $y$. This value is computed using a $t$-test which is a topic you may remember from statistics but we will not cover in this lecture. The other output, `std_slope` is the estimated standard deviation of the slope:"
   ]
  },
  {
   "cell_type": "code",
   "execution_count": 16,
   "metadata": {},
   "outputs": [
    {
     "name": "stdout",
     "output_type": "stream",
     "text": [
      "m = 1.274 +/- 0.053\n"
     ]
    }
   ],
   "source": [
    "print('m = {:.3f} +/- {:.3f}'.format(m, std_slope))"
   ]
  },
  {
   "cell_type": "markdown",
   "metadata": {},
   "source": [
    "We won't go into how this is computed here, but it may be useful."
   ]
  },
  {
   "cell_type": "markdown",
   "metadata": {},
   "source": [
    "### Polynomial Least-Squares Regression Derivation"
   ]
  },
  {
   "cell_type": "markdown",
   "metadata": {},
   "source": [
    "The data we looked at before was easy since it has a nice linear relationship. However, real data is rarely so simple. What happens if we have some more complex relationship? One common type of more complex data is based on polynomials:\n",
    "\n",
    "$y_i = \\beta_0 + \\beta_1x_i + \\beta_2x_i^2 + \\beta_3x_i^3 ... + \\epsilon_i$\n",
    "\n",
    "where $\\beta_0$ is an intercept (equivalent to $b$) and $\\beta_1$ is a linear slope (equivalent to $m$). This notation makes it easy to write a polynomial model as a summation:\n",
    "\n",
    "$y_i = \\sum_j^M \\beta_j x_{i}^j + \\epsilon_i$\n",
    "\n",
    "since $x_i^0=1$, we can see that these two forms are equivalent and the summation gives a polynomial model up to order $M$.\n",
    "\n",
    "We can also think of this slightly differently. Let's consider a matrix, $\\bar{\\bar{X}} = X_{ij}$, where each entry is given by:\n",
    "\n",
    "$X_{ij} = x_i^j$\n",
    "\n",
    "Let's see how this might work in Python for a 3rd-order polynomial model:"
   ]
  },
  {
   "cell_type": "code",
   "execution_count": 17,
   "metadata": {},
   "outputs": [
    {
     "data": {
      "text/plain": [
       "array([[ 1.        ,  0.        ,  0.        ,  0.        ],\n",
       "       [ 1.        ,  0.38888889,  0.15123457,  0.05881344],\n",
       "       [ 1.        ,  0.77777778,  0.60493827,  0.47050754],\n",
       "       [ 1.        ,  1.16666667,  1.36111111,  1.58796296],\n",
       "       [ 1.        ,  1.55555556,  2.41975309,  3.76406036],\n",
       "       [ 1.        ,  1.94444444,  3.7808642 ,  7.35168038],\n",
       "       [ 1.        ,  2.33333333,  5.44444444, 12.7037037 ],\n",
       "       [ 1.        ,  2.72222222,  7.41049383, 20.17301097],\n",
       "       [ 1.        ,  3.11111111,  9.67901235, 30.11248285],\n",
       "       [ 1.        ,  3.5       , 12.25      , 42.875     ]])"
      ]
     },
     "execution_count": 17,
     "metadata": {},
     "output_type": "execute_result"
    }
   ],
   "source": [
    "x = np.linspace(0, 3.5, 10)\n",
    "X = np.zeros((len(x), 4))\n",
    "X[:,0] = 1\n",
    "X[:,1] = x\n",
    "X[:,2] = x**2\n",
    "X[:,3] = x**3\n",
    "\n",
    "X"
   ]
  },
  {
   "cell_type": "code",
   "execution_count": 18,
   "metadata": {},
   "outputs": [
    {
     "data": {
      "text/plain": [
       "True"
      ]
     },
     "execution_count": 18,
     "metadata": {},
     "output_type": "execute_result"
    }
   ],
   "source": [
    "X[0,3] == x[0]**3"
   ]
  },
  {
   "cell_type": "markdown",
   "metadata": {},
   "source": [
    "#### Exercise: Construct a matrix, $X_{ij}$ for a 5th-order polynomial model from the $x$ vector given below (5 points)\n",
    "\n",
    "**Hint:** You may want to [review how Python handles matrices and vectors](https://nbviewer.jupyter.org/github/jrjohansson/numerical-python-book-code/blob/master/ch02-code-listing.ipynb). One key note is that Python uses [element-wise multiplication by default](https://www.mathworks.com/help/matlab/ref/times.html), as opposed to the default matrix/vector multiplication in MATLAB."
   ]
  },
  {
   "cell_type": "code",
   "execution_count": 19,
   "metadata": {},
   "outputs": [],
   "source": [
    "x = np.linspace(-2.5, 2.5, 10)\n",
    "#insert code here"
   ]
  },
  {
   "cell_type": "markdown",
   "metadata": {},
   "source": [
    "**End Exercise**"
   ]
  },
  {
   "cell_type": "markdown",
   "metadata": {},
   "source": [
    "Using this new matrix we can write an even simpler expression:\n",
    "\n",
    "$y_i = \\sum_j^M \\beta_j X_{ij} + \\epsilon_i$"
   ]
  },
  {
   "cell_type": "markdown",
   "metadata": {},
   "source": [
    "### Matrix Algebra\n",
    "\n",
    "Now its time to switch gears and review some linear algebra. A few key definitions:\n",
    "\n",
    "* Dot product:\n",
    "\n",
    "$\\vec{a} \\cdot{} \\vec{b} = \\sum_i a_i b_i$\n",
    "\n",
    "* Matrix/vector multiplication:\n",
    "\n",
    "$\\bar{\\bar{A}} \\vec{x} = \\sum_j A_{ij} x_j$\n",
    "\n",
    "* Matrix/matrix multiplication:\n",
    "\n",
    "$\\bar{\\bar{A}} \\bar{\\bar{B}} = \\sum_j A_{ij} B_{jk}$"
   ]
  },
  {
   "cell_type": "markdown",
   "metadata": {},
   "source": [
    "#### Exercise: Write a Python function that multiplies two matrices based on the header below. Do not use anything except for loops  (10 points).\n",
    "\n",
    "**Hint:** You may want review Python [function definitions](https://docs.python.org/3.6/tutorial/controlflow.html#defining-functions) and [for loops](https://docs.python.org/3.6/tutorial/controlflow.html#for-statements) for this exercise."
   ]
  },
  {
   "cell_type": "code",
   "execution_count": 20,
   "metadata": {},
   "outputs": [],
   "source": [
    "def matrix_multiply(A, B):\n",
    "    AB = np.zeros((4,3)) #remove this line\n",
    "    #insert code here\n",
    "    return AB"
   ]
  },
  {
   "cell_type": "code",
   "execution_count": 21,
   "metadata": {},
   "outputs": [
    {
     "data": {
      "text/plain": [
       "False"
      ]
     },
     "execution_count": 21,
     "metadata": {},
     "output_type": "execute_result"
    }
   ],
   "source": [
    "A = np.random.rand(4,5)\n",
    "B = np.random.rand(5,3)\n",
    "AB_numpy = np.dot(A,B)\n",
    "AB = matrix_multiply(A,B)\n",
    "np.isclose(AB_numpy, AB).all()"
   ]
  },
  {
   "cell_type": "markdown",
   "metadata": {},
   "source": [
    "If the above block outputs `True` then your function is working correctly!\n",
    "\n",
    "**Note:** Comparing arrays can be tricky! You may want to read about the `isclose` function [here](https://docs.scipy.org/doc/numpy-1.15.0/reference/generated/numpy.isclose.html) and the `all` and `any` functions [here](https://docs.scipy.org/doc/numpy-1.13.0/reference/routines.logic.html#truth-value-testing)."
   ]
  },
  {
   "cell_type": "markdown",
   "metadata": {},
   "source": [
    "**End Exercise**"
   ]
  },
  {
   "cell_type": "markdown",
   "metadata": {},
   "source": [
    "If we compare the definition of matrix/vector multiplication with our simplified formula for a polynomial model we get:\n",
    "\n",
    "$y_i = \\sum_j^M \\beta_j X_{ij} + \\epsilon_i \\Rightarrow \\vec{y} =  \\bar{\\bar{X}} \\vec{\\beta} + \\vec{\\epsilon}$\n",
    "\n",
    "We can check this with Python:"
   ]
  },
  {
   "cell_type": "code",
   "execution_count": 22,
   "metadata": {},
   "outputs": [
    {
     "data": {
      "text/plain": [
       "array([ 9.25      ,  2.31721536,  0.02229081,  0.9537037 ,  3.69993141,\n",
       "        6.8494513 ,  8.99074074,  8.71227709,  4.60253772, -4.75      ])"
      ]
     },
     "execution_count": 22,
     "metadata": {},
     "output_type": "execute_result"
    }
   ],
   "source": [
    "x = np.linspace(-2,5,10)\n",
    "X = np.zeros((len(x), 4))\n",
    "for j in range(4): #why not 3?\n",
    "    X[:,j] = x**j\n",
    "beta = [0.25, 1.5, 2, -0.5]\n",
    "y_linalg = np.dot(X,beta)\n",
    "y_linalg"
   ]
  },
  {
   "cell_type": "code",
   "execution_count": 23,
   "metadata": {},
   "outputs": [
    {
     "data": {
      "text/plain": [
       "array([ 9.25      ,  2.31721536,  0.02229081,  0.9537037 ,  3.69993141,\n",
       "        6.8494513 ,  8.99074074,  8.71227709,  4.60253772, -4.75      ])"
      ]
     },
     "execution_count": 23,
     "metadata": {},
     "output_type": "execute_result"
    }
   ],
   "source": [
    "y_sum = beta[0] + beta[1]*x + beta[2]*x**2 + beta[3]*x**3\n",
    "y_sum"
   ]
  },
  {
   "cell_type": "code",
   "execution_count": 24,
   "metadata": {
    "scrolled": true
   },
   "outputs": [
    {
     "data": {
      "text/plain": [
       "[<matplotlib.lines.Line2D at 0x7f84739b0da0>]"
      ]
     },
     "execution_count": 24,
     "metadata": {},
     "output_type": "execute_result"
    },
    {
     "data": {
      "image/png": "[encoded data removed]",
      "text/plain": [
       "<Figure size 432x288 with 1 Axes>"
      ]
     },
     "metadata": {
      "needs_background": "light"
     },
     "output_type": "display_data"
    }
   ],
   "source": [
    "fig, ax = plt.subplots()\n",
    "ax.plot(x, y_linalg, marker='x', color='r', linestyle='-')\n",
    "ax.plot(x, y_linalg, marker='o', color='b', linestyle='--')"
   ]
  },
  {
   "cell_type": "markdown",
   "metadata": {},
   "source": [
    "Now, we can approach the problem the same way as simple linear regression, but we will have to use matrix algebra instead of linear algebra. Let's start by defining the sum of squared errors:\n",
    "\n",
    "$\\sum_i \\epsilon_i^2 = \\vec{\\epsilon}\\cdot\\vec{\\epsilon}^T$\n",
    "\n",
    "where $\\vec{\\epsilon}^T$ is the transpose of $\\vec{\\epsilon}$. Next we substitute in the model form:\n",
    "\n",
    "$\\vec{\\epsilon}\\cdot\\vec{\\epsilon}^T = (\\bar{\\bar{X}}\\vec{\\beta} - \\vec{y})(\\bar{\\bar{X}}\\vec{\\beta} - \\vec{y})^T$\n",
    "\n",
    "Recalling matrix transpose rules:\n",
    "\n",
    "$(\\bar{\\bar{X}}\\vec{\\beta} - \\vec{y})(\\bar{\\bar{X}}\\vec{\\beta} - \\vec{y})^T = (\\bar{\\bar{X}}\\vec{\\beta} - \\vec{y})(\\vec{\\beta}^T\\bar{\\bar{X}}^T - \\vec{y}^T)$\n",
    "\n",
    "and multiplying:"
   ]
  },
  {
   "cell_type": "markdown",
   "metadata": {},
   "source": [
    "$\\vec{\\beta}^T\\bar{\\bar{X}}^T\\bar{\\bar{X}}\\vec{\\beta} - \\vec{y}^T\\bar{\\bar{X}}\\vec{\\beta} - \\vec{\\beta}^T\\bar{\\bar{X}}^T\\vec{y} + \\vec{y}^T\\vec{y}$\n",
    "\n",
    "the middle two terms are both dot products of $\\vec{y}^T(\\bar{\\bar{X}}\\vec{\\beta})$ or $(\\bar{\\bar{X}}\\vec{\\beta})^T\\vec{y}$, which are symmetric and therefore equal giving:\n",
    "\n",
    "$\\vec{\\epsilon}\\cdot\\vec{\\epsilon}^T = \\vec{\\beta}^T\\bar{\\bar{X}}^T\\bar{\\bar{X}}\\vec{\\beta} - 2\\vec{y}^T\\bar{\\bar{X}}\\vec{\\beta} + \\vec{y}^T\\vec{y}$\n",
    "\n",
    "Next, we need to take the derivative of the loss function with respect to the paramters ($\\vec{\\beta}$) and set it equal to zero:\n",
    "\n",
    "$\\frac{\\partial \\vec{\\epsilon}\\cdot\\vec{\\epsilon}^T}{\\partial \\vec{\\beta}}$\n",
    "\n",
    "Taking derivatives with respect to vectors can be tricky, but the following two identities are useful:\n",
    "\n",
    "$\\frac{\\partial \\bar{\\bar{A}}\\vec{x}}{\\partial \\vec{x}} = \\bar{\\bar{A}}$\n",
    "\n",
    "$\\frac{\\partial \\vec{x}^T\\bar{\\bar{A}}^T\\bar{\\bar{A}}\\vec{x}}{\\partial \\vec{x}} = 2\\bar{\\bar{A}}^T\\bar{\\bar{A}}\\vec{x}$\n",
    "\n",
    "Using these identities you should be able to show that:\n",
    "\n",
    "$\\frac{\\partial \\vec{\\epsilon}\\cdot\\vec{\\epsilon}^T}{\\partial \\vec{\\beta}} = 2 \\bar{\\bar{X}}^T\\bar{\\bar{X}}\\vec{\\beta} - 2\\bar{\\bar{X}}^T\\vec{y}$\n",
    "\n",
    "Setting equal to zero gives:\n",
    "\n",
    "$\\bar{\\bar{X}}^T\\bar{\\bar{X}}\\vec{\\beta} = \\bar{\\bar{X}}^T\\vec{y}$\n",
    "\n",
    "Now we can notice that $\\bar{\\bar{X}}^T\\bar{\\bar{X}}$ is a matrix, which we can call $\\bar{\\bar{A}}$, and $\\bar{\\bar{X}}^T\\vec{y}$ is a vector, which we can call $\\vec{b}$. If we let $\\vec{\\beta} = \\vec{x}$ then we can see that this a system of linear equations:\n",
    "\n",
    "$\\bar{\\bar{A}}\\vec{x} = \\vec{b}$\n",
    "\n",
    "Let's set this up in Python:"
   ]
  },
  {
   "cell_type": "code",
   "execution_count": 25,
   "metadata": {},
   "outputs": [],
   "source": [
    "A = np.dot(X.T, X)\n",
    "b = np.dot(X.T, y_linalg)"
   ]
  },
  {
   "cell_type": "markdown",
   "metadata": {},
   "source": [
    "Now we just need to know how to find $\\beta$."
   ]
  },
  {
   "cell_type": "markdown",
   "metadata": {},
   "source": [
    "### Linear Systems of Equations\n",
    "\n",
    "Linear systems of equations are very common in engineering, and you should be familiar with [Gaussian Elimination](http://mathworld.wolfram.com/GaussianElimination.html) from your linear algebra course. Let's take a look at how to do this the easy way with `numpy`:"
   ]
  },
  {
   "cell_type": "code",
   "execution_count": 26,
   "metadata": {},
   "outputs": [
    {
     "data": {
      "text/plain": [
       "array([ 0.25,  1.5 ,  2.  , -0.5 ])"
      ]
     },
     "execution_count": 26,
     "metadata": {},
     "output_type": "execute_result"
    }
   ],
   "source": [
    "beta = np.linalg.solve(A,b)\n",
    "beta"
   ]
  },
  {
   "cell_type": "markdown",
   "metadata": {},
   "source": [
    "#### Exercise: Write a Python function that solves a linear system of equations using Gaussian Elimination (15 points)\n",
    "\n",
    "This should be good practice on writing Python functions, using for loops, and working with Numpy arrays. You can base your function on the header provided, and test it with the block below:"
   ]
  },
  {
   "cell_type": "code",
   "execution_count": 27,
   "metadata": {},
   "outputs": [],
   "source": [
    "def gaussian_elimination(A,b):\n",
    "    x = b #<- this is incorrect.\n",
    "    #write code here\n",
    "    return x"
   ]
  },
  {
   "cell_type": "code",
   "execution_count": 28,
   "metadata": {},
   "outputs": [
    {
     "data": {
      "text/plain": [
       "False"
      ]
     },
     "execution_count": 28,
     "metadata": {},
     "output_type": "execute_result"
    }
   ],
   "source": [
    "np_x = np.linalg.solve(A, b)\n",
    "ge_x = gaussian_elimination(A, b)\n",
    "np.isclose(np_x, ge_x).all()"
   ]
  },
  {
   "cell_type": "markdown",
   "metadata": {},
   "source": [
    "When the block above returns `True` your function is working correctly."
   ]
  },
  {
   "cell_type": "markdown",
   "metadata": {},
   "source": [
    "**End Exercise**"
   ]
  },
  {
   "cell_type": "markdown",
   "metadata": {},
   "source": [
    "### Polynomial Least-Squares Regression"
   ]
  },
  {
   "cell_type": "markdown",
   "metadata": {},
   "source": [
    "We see that we recover exactly the same $\\beta$ vector that we input earlier. The reason is that we never added any error term to the data. Let's see what happens if we add some normally-distributed noise:"
   ]
  },
  {
   "cell_type": "code",
   "execution_count": 29,
   "metadata": {},
   "outputs": [
    {
     "data": {
      "text/plain": [
       "[<matplotlib.lines.Line2D at 0x7f8473985b00>]"
      ]
     },
     "execution_count": 29,
     "metadata": {},
     "output_type": "execute_result"
    },
    {
     "data": {
      "image/png": "[encoded data removed]",
      "text/plain": [
       "<Figure size 432x288 with 1 Axes>"
      ]
     },
     "metadata": {
      "needs_background": "light"
     },
     "output_type": "display_data"
    }
   ],
   "source": [
    "np.random.seed(1)\n",
    "stdev = 0.5\n",
    "y_noisy = y_linalg + np.random.normal(0,stdev,len(y_linalg))\n",
    "fig,ax = plt.subplots()\n",
    "ax.plot(x,y_linalg, '-ob')\n",
    "ax.plot(x,y_noisy, 'or')"
   ]
  },
  {
   "cell_type": "markdown",
   "metadata": {},
   "source": [
    "We can re-construct our $b$ vector (note that the $\\bar{\\bar{X}}$ matrix is the same) and solve for $\\vec{\\beta}$:"
   ]
  },
  {
   "cell_type": "code",
   "execution_count": 30,
   "metadata": {},
   "outputs": [
    {
     "data": {
      "text/plain": [
       "array([-0.14315177,  1.41457696,  2.16317792, -0.52743793])"
      ]
     },
     "execution_count": 30,
     "metadata": {},
     "output_type": "execute_result"
    }
   ],
   "source": [
    "b = np.dot(X.T, y_noisy)\n",
    "beta_noisy = np.linalg.solve(A, b)\n",
    "beta_noisy"
   ]
  },
  {
   "cell_type": "markdown",
   "metadata": {},
   "source": [
    "The coefficients are pretty different now! Let's see how the predicted data looks:"
   ]
  },
  {
   "cell_type": "code",
   "execution_count": 31,
   "metadata": {},
   "outputs": [
    {
     "data": {
      "image/png": "[encoded data removed]",
      "text/plain": [
       "<Figure size 432x288 with 1 Axes>"
      ]
     },
     "execution_count": 31,
     "metadata": {},
     "output_type": "execute_result"
    }
   ],
   "source": [
    "y_pred = np.dot(X, beta_noisy)\n",
    "ax.plot(x,y_pred,'--k')\n",
    "fig"
   ]
  },
  {
   "cell_type": "markdown",
   "metadata": {},
   "source": [
    "Even though the coefficients are pretty far off, the prediction doesn't look too bad. The reason is that the largest coefficients are pretty close. We will discuss how to quantify error on these parameters later.\n",
    "\n",
    "We can also compute an $r^2$ value for the model. The definition is the same as before: it is the percent difference between the sum of squared errors and the sum of total errors:"
   ]
  },
  {
   "cell_type": "code",
   "execution_count": 32,
   "metadata": {},
   "outputs": [
    {
     "data": {
      "text/plain": [
       "0.9869666494581136"
      ]
     },
     "execution_count": 32,
     "metadata": {},
     "output_type": "execute_result"
    }
   ],
   "source": [
    "SSE = np.sum((y_noisy - np.dot(X, beta_noisy))**2)\n",
    "SST = np.sum((y_noisy - np.mean(y_noisy))**2)\n",
    "r2 = (SST - SSE)/SST\n",
    "r2"
   ]
  },
  {
   "cell_type": "markdown",
   "metadata": {},
   "source": [
    "This means that 98% of the variance in the data is determined by the model, which is pretty good. Can we do better?\n",
    "\n",
    "One strategy is to add more polynomials, since in a real scenario we don't know how many polynomials are used to generate the data. Let's create a function that generates an independent variable matrix, $\\bar{\\bar{X}}$ for an arbitrary number of polynomials:"
   ]
  },
  {
   "cell_type": "code",
   "execution_count": 33,
   "metadata": {},
   "outputs": [
    {
     "data": {
      "text/plain": [
       "True"
      ]
     },
     "execution_count": 33,
     "metadata": {},
     "output_type": "execute_result"
    }
   ],
   "source": [
    "def polynomial_features(x, N):\n",
    "    # function to return a matrix of polynomials for x to order N\n",
    "    # One-liner uses \"list comprehension\" to iterate through range 0 - N (note N+1 since range function is not inclusive)\n",
    "    # The input, x, is raised to the power of N for each value of N\n",
    "    # The result is converted to an array and transposed so that columns correspond to features and rows correspond to data points (individual x values)\n",
    "    return np.array([x**k for k in range(0,N)]).T\n",
    "\n",
    "x1 = np.linspace(0,10, 15)\n",
    "X1_poly = polynomial_features(x1,4)\n",
    "X1_poly[6,3] == x1[6]**3"
   ]
  },
  {
   "cell_type": "markdown",
   "metadata": {},
   "source": [
    "Now we can evaluate $r^2$ for regression models with different numbers of polynomials:"
   ]
  },
  {
   "cell_type": "code",
   "execution_count": 37,
   "metadata": {},
   "outputs": [
    {
     "name": "stdout",
     "output_type": "stream",
     "text": [
      "beta = [-0.96492316  2.10793785  7.69068707 -3.77709495 -3.75280694  2.72043468\n",
      "  0.14303087 -0.45770811  0.11402214 -0.00865625]\n",
      "r^2 = 0.9999999999999998\n"
     ]
    },
    {
     "data": {
      "text/plain": [
       "[<matplotlib.lines.Line2D at 0x7f84737b3278>]"
      ]
     },
     "execution_count": 37,
     "metadata": {},
     "output_type": "execute_result"
    },
    {
     "data": {
      "image/png": "[encoded data removed]",
      "text/plain": [
       "<Figure size 432x288 with 1 Axes>"
      ]
     },
     "metadata": {
      "needs_background": "light"
     },
     "output_type": "display_data"
    }
   ],
   "source": [
    "N = 10\n",
    "\n",
    "X_N = polynomial_features(x, N) #generate features\n",
    "b_N = np.dot(X_N.T, y_noisy) #generate b vector with new features\n",
    "A_N = np.dot(X_N.T, X_N) #generate A matrix with new features\n",
    "beta_N = np.linalg.solve(A_N, b_N) #solve Ax=b with new features\n",
    "print('beta = {}'.format(str(beta_N)))\n",
    "\n",
    "yhat_N = np.dot(X_N, beta_N) #compute predictions\n",
    "SSE_N = np.sum((y_noisy - yhat_N)**2) #compute sum of squared errors\n",
    "SST_N = np.sum((y_noisy - np.mean(y_noisy))**2) #compute total sum of squares\n",
    "r2_N = (SST_N - SSE_N)/SST_N # compute r^2\n",
    "print('r^2 = {}'.format(r2_N))\n",
    "\n",
    "fig, ax = plt.subplots()\n",
    "ax.plot(x, y_noisy, 'or')\n",
    "ax.plot(x, yhat_N, '--k')"
   ]
  },
  {
   "cell_type": "markdown",
   "metadata": {},
   "source": [
    "We see that when $N=10$ our $r^2$ is 1.0, meaning the model explains 100% of the variance in the data!"
   ]
  },
  {
   "cell_type": "markdown",
   "metadata": {},
   "source": [
    "#### Discussion: Does $r^2=1$ mean that this is a good model?"
   ]
  },
  {
   "cell_type": "markdown",
   "metadata": {},
   "source": [
    "Let's see what happens when we try to use the model to predict new points that are not in the data we used for the fit:"
   ]
  },
  {
   "cell_type": "code",
   "execution_count": 39,
   "metadata": {},
   "outputs": [
    {
     "data": {
      "text/plain": [
       "[<matplotlib.lines.Line2D at 0x7f84736a24e0>]"
      ]
     },
     "execution_count": 39,
     "metadata": {},
     "output_type": "execute_result"
    },
    {
     "data": {
      "image/png": "[encoded data removed]",
      "text/plain": [
       "<Figure size 432x288 with 1 Axes>"
      ]
     },
     "metadata": {
      "needs_background": "light"
     },
     "output_type": "display_data"
    }
   ],
   "source": [
    "x_test = np.linspace(-2.1, 5.1, 50)\n",
    "X_test = polynomial_features(x_test, N)\n",
    "yhat_test = np.dot(X_test, beta_N)\n",
    "\n",
    "fig, ax = plt.subplots()\n",
    "ax.plot(x, y_noisy, 'or')\n",
    "ax.plot(x_test, yhat_test, '--k')"
   ]
  },
  {
   "cell_type": "markdown",
   "metadata": {},
   "source": [
    "This doesn't look so good. We will talk more about how to select the correct number of polynomials later in the course. For now, you should be able to recognize that as we add parameters to the model the $r^2$ always decreases, but the predictions may become worse."
   ]
  },
  {
   "cell_type": "markdown",
   "metadata": {},
   "source": [
    "#### Exercise: Use a for loop to plot the value of $r^2$ as a function of the number of polynomials for this dataset (10 points)"
   ]
  },
  {
   "cell_type": "code",
   "execution_count": 40,
   "metadata": {},
   "outputs": [],
   "source": [
    "##Insert code here"
   ]
  },
  {
   "cell_type": "markdown",
   "metadata": {},
   "source": [
    "**End Exercise**"
   ]
  },
  {
   "cell_type": "markdown",
   "metadata": {},
   "source": [
    "## Features and covariance matrices "
   ]
  },
  {
   "cell_type": "markdown",
   "metadata": {},
   "source": [
    "Another way of thinking of the matrix $\\bar{\\bar{X}}$ is that each column provides a different \"feature\" that describes the behavior of $y$ with respect to $x$. This means we can think of the data, $y$, as being a function of all the different polynomials of $x$:\n",
    "\n",
    "$y(x) = y(x, x^2, x^3, x^4,...)$\n",
    "\n",
    "We will see later that this is a very convenient way to think about the problem. In this case, we can recognize that the arguments of the function, $x^j$, are not really independent. However, they are also not *linearly dependent*:\n",
    "\n",
    "$x^2 \\neq C x$\n",
    "\n",
    "where $C$ is any constant. This means that they are actually adding additional information to the model, since $y$ is linearly dependent on $\\beta$.\n",
    "\n",
    "$y = \\bar{\\bar{X}}\\vec{\\beta}$\n",
    "\n",
    "One way we can assess linear dependence of different features is to see how much they are correlated. We can do this visually with scatter plots:"
   ]
  },
  {
   "cell_type": "code",
   "execution_count": 44,
   "metadata": {},
   "outputs": [
    {
     "data": {
      "image/png": "[encoded data removed]",
      "text/plain": [
       "<Figure size 1080x1080 with 100 Axes>"
      ]
     },
     "metadata": {
      "needs_background": "light"
     },
     "output_type": "display_data"
    }
   ],
   "source": [
    "N = X_N.shape[1]\n",
    "fig, axes = plt.subplots(N,N, figsize = (15,15))\n",
    "\n",
    "for i in range(N):\n",
    "    for j in range(N):\n",
    "        xi = X_N[:,i]\n",
    "        xj = X_N[:,j]\n",
    "        axes[i,j].scatter(xi, xj)"
   ]
  },
  {
   "cell_type": "markdown",
   "metadata": {},
   "source": [
    "We can see that some of these are very non-linear, but many look like they are nearly linear."
   ]
  },
  {
   "cell_type": "markdown",
   "metadata": {},
   "source": [
    "#### Discussion: What does it mean if two features are nearly linear ($x_{A} \\approx C x_{B}$)?"
   ]
  },
  {
   "cell_type": "markdown",
   "metadata": {},
   "source": [
    "Instead of looking at all of these plots, we can compute the \"covariance\" matrix, given by:\n",
    "\n",
    "$\\Sigma_{jk} = \\frac{1}{n-1}\\sum_{i=1}^{N}\\left(  x_{ij}-\\bar{x}_j \\right)  \\left( x_{ik}-\\bar{x}_k \\right)$\n",
    "\n",
    "or, in vector notation:\n",
    "\n",
    "$\\Sigma = \\frac{1}{n-1} \\left( (\\mathbf{X} - \\mathbf{\\bar{x}})^T\\;(\\mathbf{X} - \\mathbf{\\bar{x}}) \\right)$ \n",
    "\n",
    "Covariance tells us how much one variable \"co-varies\" or is correlated with another. Let's compute it for the case of polynomial features:"
   ]
  },
  {
   "cell_type": "code",
   "execution_count": 70,
   "metadata": {},
   "outputs": [
    {
     "data": {
      "text/plain": [
       "<matplotlib.colorbar.Colorbar at 0x7f8468a46c88>"
      ]
     },
     "execution_count": 70,
     "metadata": {},
     "output_type": "execute_result"
    },
    {
     "data": {
      "image/png": "[encoded data removed]",
      "text/plain": [
       "<Figure size 432x288 with 2 Axes>"
      ]
     },
     "metadata": {
      "needs_background": "light"
     },
     "output_type": "display_data"
    }
   ],
   "source": [
    "cov = (1/(N-1))*np.dot((X_N - X_N.mean(axis=0)).T, (X_N - X_N.mean(axis=0)))\n",
    "fig,ax = plt.subplots()\n",
    "im = ax.imshow(cov)\n",
    "fig.colorbar(im)"
   ]
  },
  {
   "cell_type": "markdown",
   "metadata": {},
   "source": [
    "It looks like the highest-order polynomials have a huge covariance. Let's take a closer look:"
   ]
  },
  {
   "cell_type": "code",
   "execution_count": 63,
   "metadata": {},
   "outputs": [
    {
     "data": {
      "text/plain": [
       "377648794209.5446"
      ]
     },
     "execution_count": 63,
     "metadata": {},
     "output_type": "execute_result"
    }
   ],
   "source": [
    "cov[-1,-1] # the -1 index can be used to get the last entry in a row/column"
   ]
  },
  {
   "cell_type": "markdown",
   "metadata": {},
   "source": [
    "The problem is that the large polynomials, like $x^{10}$ have extremely large values, compared to the small polynomials, like $x$. One way we can get around this is to \"re-scale\" all of the features using their standard deviations:"
   ]
  },
  {
   "cell_type": "code",
   "execution_count": 64,
   "metadata": {},
   "outputs": [
    {
     "name": "stderr",
     "output_type": "stream",
     "text": [
      "/home/aj/Software/anaconda3/envs/DA4E-F19/lib/python3.6/site-packages/ipykernel_launcher.py:1: RuntimeWarning: divide by zero encountered in true_divide\n",
      "  \"\"\"Entry point for launching an IPython kernel.\n"
     ]
    }
   ],
   "source": [
    "X_rescaled = X_N/np.std(X_N,axis=0)\n",
    "X_rescaled[:,0] = 0"
   ]
  },
  {
   "cell_type": "markdown",
   "metadata": {},
   "source": [
    "Note that the error arises because the standard deviation of the first column is 0 since it is a constant. We then set its \"rescaled\" value to be zero. Rescaling features by their standard deviation is common in problems where the features have different \"units\" ($m$, $m^2$, $m^3$, etc.). Let's see how the covariance looks now:"
   ]
  },
  {
   "cell_type": "code",
   "execution_count": 96,
   "metadata": {},
   "outputs": [
    {
     "data": {
      "text/plain": [
       "<matplotlib.colorbar.Colorbar at 0x7f8468062780>"
      ]
     },
     "execution_count": 96,
     "metadata": {},
     "output_type": "execute_result"
    },
    {
     "data": {
      "image/png": "[encoded data removed]",
      "text/plain": [
       "<Figure size 432x288 with 2 Axes>"
      ]
     },
     "metadata": {
      "needs_background": "light"
     },
     "output_type": "display_data"
    }
   ],
   "source": [
    "cov = (1/(N-1))*np.dot((X_rescaled - X_rescaled.mean(axis=0)).T, (X_rescaled - X_rescaled.mean(axis=0)))\n",
    "cov = np.cov(X_rescaled.T)\n",
    "fig,ax = plt.subplots()\n",
    "im = ax.imshow(cov)\n",
    "fig.colorbar(im)"
   ]
  },
  {
   "cell_type": "markdown",
   "metadata": {},
   "source": [
    "Now the range of the covariance matrix is much closer to 0-1. In fact, this is closely related to the \"correlation matrix\", which gives the $r$ value of a linear regression between any two variables. We can compute both the covariance and correlation matrices with `numpy`:"
   ]
  },
  {
   "cell_type": "code",
   "execution_count": 112,
   "metadata": {
    "scrolled": true
   },
   "outputs": [
    {
     "data": {
      "text/plain": [
       "<matplotlib.colorbar.Colorbar at 0x7f8463d1ee80>"
      ]
     },
     "execution_count": 112,
     "metadata": {},
     "output_type": "execute_result"
    },
    {
     "data": {
      "image/png": "[encoded data removed]",
      "text/plain": [
       "<Figure size 576x288 with 3 Axes>"
      ]
     },
     "metadata": {
      "needs_background": "light"
     },
     "output_type": "display_data"
    }
   ],
   "source": [
    "cov = np.cov(X_rescaled.T)\n",
    "corr = np.corrcoef(X_N.T)\n",
    "fig, axes = plt.subplots(1,2, figsize=(8,4))\n",
    "im = axes[0].imshow(cov)\n",
    "axes[1].imshow(corr)\n",
    "fig.colorbar(im)"
   ]
  },
  {
   "cell_type": "markdown",
   "metadata": {},
   "source": [
    "We can see that many of these polynomial features are highly correlated. This means that they aren't really adding much information."
   ]
  },
  {
   "cell_type": "markdown",
   "metadata": {},
   "source": [
    "#### Exercise: Show that the correlation matrix is equivalent to the slope of a linear regression analysis between each of the feature pairs (10 points)"
   ]
  },
  {
   "cell_type": "markdown",
   "metadata": {},
   "source": [
    "**Note:** You can use the `linregress` function to find $r$ values. You can also ignore the first column of $X_N$ (constant)."
   ]
  },
  {
   "cell_type": "code",
   "execution_count": 116,
   "metadata": {},
   "outputs": [
    {
     "data": {
      "text/plain": [
       "(0.8361898735931865, 0.8361898735931863)"
      ]
     },
     "execution_count": 116,
     "metadata": {},
     "output_type": "execute_result"
    }
   ],
   "source": [
    "m, b, r, p, std_slope = linregress(X_N[:,2],X_N[:,1])\n",
    "corr[2,1], r\n",
    "#Insert code here."
   ]
  },
  {
   "cell_type": "markdown",
   "metadata": {},
   "source": [
    "**End Exercise**"
   ]
  },
  {
   "cell_type": "markdown",
   "metadata": {},
   "source": [
    "## Eigenvalues and Singular Values\n",
    "* Discuss ill-conditioned or non-invertable matrices (hopefully create one with above example)\n",
    "* Linear systems can also be solved using singular value decomposition\n",
    "* Introduce the concept of matrix \"rank\", make connection to over/under constrained"
   ]
  },
  {
   "cell_type": "markdown",
   "metadata": {},
   "source": [
    "## Generalized Linear Models\n",
    "\n",
    "The idea of adding polynomials of increasing order into the model is a powerful concept because it allows us to make the model more flexible. However, we don't necessarily have to use polynomials (and as we will see later, simple polynomials are actually a bad idea).\n",
    "\n",
    "Let's consider a new dataset, and this time we will use something more realistic. We will load in a dataset from infrared spectroscopy of an ethanol molecule. The data was obtained [from NIST](https://webbook.nist.gov/cgi/cbook.cgi?ID=C64175&Units=SI&Type=IR-SPEC&Index=2#IR-SPEC), and we will use a new library called `pandas` to read it in. You will learn more about this in the \"Data Management\" module, but for now you just need to run the cell below:"
   ]
  },
  {
   "cell_type": "code",
   "execution_count": 41,
   "metadata": {},
   "outputs": [
    {
     "data": {
      "text/plain": [
       "Text(0, 0.5, 'absorbance')"
      ]
     },
     "execution_count": 41,
     "metadata": {},
     "output_type": "execute_result"
    },
    {
     "data": {
      "image/png": "[encoded data removed]",
      "text/plain": [
       "<Figure size 432x288 with 1 Axes>"
      ]
     },
     "metadata": {
      "needs_background": "light"
     },
     "output_type": "display_data"
    }
   ],
   "source": [
    "import pandas as pd\n",
    "\n",
    "df = pd.read_csv('data/ethanol_IR.csv')\n",
    "x_all = df['wavenumber [cm^-1]'].values\n",
    "y_all = df['absorbance'].values\n",
    "\n",
    "fig, ax = plt.subplots()\n",
    "ax.plot(x_all,y_all)\n",
    "ax.set_xlabel('wavenumber [cm^-1]')\n",
    "ax.set_ylabel('absorbance')"
   ]
  },
  {
   "cell_type": "markdown",
   "metadata": {},
   "source": [
    "This data looks a lot more complicated than our toy dataset from before. You don't need to understand the details of chemistry or infrared spectroscopy for this exercise. The key of analyzing these spectra is that the size and position of the peaks tells us information about the nature of the molecule. Let's make things easier by just selecting one of the peaks:"
   ]
  },
  {
   "cell_type": "code",
   "execution_count": null,
   "metadata": {},
   "outputs": [],
   "source": [
    "x_peak = x_all[475:575]\n",
    "y_peak = y_all[475:575]\n",
    "\n",
    "fig, ax = plt.subplots()\n",
    "ax.plot(x_peak,y_peak, '-b', marker='.')\n",
    "ax.set_xlabel('wavenumber [cm^-1]')\n",
    "ax.set_ylabel('absorbance')"
   ]
  },
  {
   "cell_type": "markdown",
   "metadata": {},
   "source": [
    "Let's see what happens if we try to fit this with the polynomials from before:"
   ]
  },
  {
   "cell_type": "code",
   "execution_count": null,
   "metadata": {},
   "outputs": [],
   "source": [
    "N = 10\n",
    "\n",
    "X_N = polynomial_features(x_peak, N) #generate features\n",
    "b_N = np.dot(X_N.T, y_peak) #generate b vector with new features\n",
    "A_N = np.dot(X_N.T, X_N) #generate A matrix with new features\n",
    "beta_N = np.linalg.solve(A_N, b_N) #solve Ax=b with new features\n",
    "print('beta = {}'.format(str(beta_N)))\n",
    "\n",
    "yhat_N = np.dot(X_N, beta_N) #compute predictions\n",
    "SSE_N = np.sum((y_peak - yhat_N)**2) #compute sum of squared errors\n",
    "SST_N = np.sum((y_peak - np.mean(y_peak))**2) #compute total sum of squares\n",
    "r2_N = (SST_N - SSE_N)/SST_N # compute r^2\n",
    "print('r^2 = {}'.format(r2_N))\n",
    "\n",
    "fig, ax = plt.subplots()\n",
    "ax.plot(x_peak, y_peak, 'or')\n",
    "ax.plot(x_peak, yhat_N, '--k')\n",
    "ax.set_xlabel('wavenumber [cm^-1]')\n",
    "ax.set_ylabel('absorbance')"
   ]
  },
  {
   "cell_type": "markdown",
   "metadata": {},
   "source": [
    "Even if we add a lot of polynomials, the fit does not look very good. We never seem to capture the two peaks. Instead of polynomials we can see that the two peaks in the spectra look a little bit like the Gaussian distribution we plotted earlier:\n",
    "\n",
    "$N(x, \\mu, \\sigma) = \\frac{1}{2\\pi\\sigma^2}\\exp\\left(-\\frac{(x-\\mu)^2}{2\\sigma^2}\\right)$\n",
    "\n",
    "We can use Gaussian functions, instead of polynomials, to construct our model:\n",
    "\n",
    "$y_i = \\sum_j \\beta_i \\exp\\left(-\\frac{(x_i-\\mu_j)^2}{2\\sigma_j^2}\\right)$\n",
    "\n",
    "Note the similarity to the polynomial expression:\n",
    "\n",
    "$y_i = \\sum_j \\beta_j x_i^j$\n",
    "\n",
    "Instead of transforming $x$ by making polynomials, we instead transform it by making Gaussian distributions. However, there is a catch. We need to set the mean, $\\mu_j$, and standard deviation, $\\sigma_j$ for each distribution.\n",
    "\n",
    "Let's first try to do this manually. If we look at the data, we can see that one peak is around 2900 and the other is around 2980. We can also guess that the standard deviation is around 25 wavenumber.\n",
    "\n",
    "Let's write this out:\n",
    "\n",
    "$y_i = \\beta_0 \\exp\\left(-\\frac{(x_i-2900)^2}{2(25^2)}\\right) + \\beta_1 \\exp\\left(-\\frac{(x_i-2980)^2}{2(25^2)}\\right)$\n",
    "\n",
    "Next, we can consider the transformed $x$ vectors as new vectors, $\\tilde{x}$:\n",
    "\n",
    "$y_i = \\beta_0 \\tilde{x}_{i,0} + \\beta_1 \\tilde{x}_{i,1}$\n",
    "\n",
    "where\n",
    "\n",
    "$\\tilde{x}_{i,0} = \\exp\\left(-\\frac{(x_i-2900)^2}{2(25^2)}\\right)$\n",
    "\n",
    "and\n",
    "\n",
    "$\\tilde{x}_{i,1} = \\exp\\left(-\\frac{(x_i-2980)^2}{2(25^2)}\\right)$\n",
    "\n",
    "Now, we can re-write the model as:\n",
    "\n",
    "$y_i = \\sum_{j=0}^{j=1} \\beta_j \\tilde{X}_{ij}$\n",
    "\n",
    "If we drop the tilde on the $X_{ij}$ matrix, we see that this is identical to the form of polynomial regression! This is actually called a \"generalized linear model\", since we can choose many different ways to transform $x$ to create the matrix $X$. Let's implement this one in Python:"
   ]
  },
  {
   "cell_type": "code",
   "execution_count": 38,
   "metadata": {},
   "outputs": [
    {
     "ename": "NameError",
     "evalue": "name 'x_peak' is not defined",
     "output_type": "error",
     "traceback": [
      "\u001b[0;31m---------------------------------------------------------------------------\u001b[0m",
      "\u001b[0;31mNameError\u001b[0m                                 Traceback (most recent call last)",
      "\u001b[0;32m<ipython-input-38-69b05e32e67d>\u001b[0m in \u001b[0;36m<module>\u001b[0;34m\u001b[0m\n\u001b[0;32m----> 1\u001b[0;31m \u001b[0mX_gauss\u001b[0m \u001b[0;34m=\u001b[0m \u001b[0mnp\u001b[0m\u001b[0;34m.\u001b[0m\u001b[0mzeros\u001b[0m\u001b[0;34m(\u001b[0m\u001b[0;34m(\u001b[0m\u001b[0mlen\u001b[0m\u001b[0;34m(\u001b[0m\u001b[0mx_peak\u001b[0m\u001b[0;34m)\u001b[0m\u001b[0;34m,\u001b[0m \u001b[0;36m2\u001b[0m\u001b[0;34m)\u001b[0m\u001b[0;34m)\u001b[0m\u001b[0;34m\u001b[0m\u001b[0;34m\u001b[0m\u001b[0m\n\u001b[0m\u001b[1;32m      2\u001b[0m \u001b[0mX_gauss\u001b[0m\u001b[0;34m[\u001b[0m\u001b[0;34m:\u001b[0m\u001b[0;34m,\u001b[0m\u001b[0;36m0\u001b[0m\u001b[0;34m]\u001b[0m \u001b[0;34m=\u001b[0m \u001b[0mnp\u001b[0m\u001b[0;34m.\u001b[0m\u001b[0mexp\u001b[0m\u001b[0;34m(\u001b[0m\u001b[0;34m-\u001b[0m\u001b[0;34m(\u001b[0m\u001b[0mx_peak\u001b[0m \u001b[0;34m-\u001b[0m \u001b[0;36m2900\u001b[0m\u001b[0;34m)\u001b[0m\u001b[0;34m**\u001b[0m\u001b[0;36m2\u001b[0m\u001b[0;34m/\u001b[0m\u001b[0;34m(\u001b[0m\u001b[0;36m2\u001b[0m\u001b[0;34m*\u001b[0m\u001b[0;34m(\u001b[0m\u001b[0;36m25\u001b[0m\u001b[0;34m**\u001b[0m\u001b[0;36m2\u001b[0m\u001b[0;34m)\u001b[0m\u001b[0;34m)\u001b[0m\u001b[0;34m)\u001b[0m\u001b[0;34m\u001b[0m\u001b[0;34m\u001b[0m\u001b[0m\n\u001b[1;32m      3\u001b[0m \u001b[0mX_gauss\u001b[0m\u001b[0;34m[\u001b[0m\u001b[0;34m:\u001b[0m\u001b[0;34m,\u001b[0m\u001b[0;36m1\u001b[0m\u001b[0;34m]\u001b[0m \u001b[0;34m=\u001b[0m \u001b[0mnp\u001b[0m\u001b[0;34m.\u001b[0m\u001b[0mexp\u001b[0m\u001b[0;34m(\u001b[0m\u001b[0;34m-\u001b[0m\u001b[0;34m(\u001b[0m\u001b[0mx_peak\u001b[0m \u001b[0;34m-\u001b[0m \u001b[0;36m2980\u001b[0m\u001b[0;34m)\u001b[0m\u001b[0;34m**\u001b[0m\u001b[0;36m2\u001b[0m\u001b[0;34m/\u001b[0m\u001b[0;34m(\u001b[0m\u001b[0;36m2\u001b[0m\u001b[0;34m*\u001b[0m\u001b[0;34m(\u001b[0m\u001b[0;36m25\u001b[0m\u001b[0;34m**\u001b[0m\u001b[0;36m2\u001b[0m\u001b[0;34m)\u001b[0m\u001b[0;34m)\u001b[0m\u001b[0;34m)\u001b[0m\u001b[0;34m\u001b[0m\u001b[0;34m\u001b[0m\u001b[0m\n\u001b[1;32m      4\u001b[0m \u001b[0;34m\u001b[0m\u001b[0m\n\u001b[1;32m      5\u001b[0m \u001b[0mfig\u001b[0m\u001b[0;34m,\u001b[0m \u001b[0max\u001b[0m \u001b[0;34m=\u001b[0m \u001b[0mplt\u001b[0m\u001b[0;34m.\u001b[0m\u001b[0msubplots\u001b[0m\u001b[0;34m(\u001b[0m\u001b[0;34m)\u001b[0m\u001b[0;34m\u001b[0m\u001b[0;34m\u001b[0m\u001b[0m\n",
      "\u001b[0;31mNameError\u001b[0m: name 'x_peak' is not defined"
     ]
    }
   ],
   "source": [
    "X_gauss = np.zeros((len(x_peak), 2))\n",
    "X_gauss[:,0] = np.exp(-(x_peak - 2900)**2/(2*(25**2)))\n",
    "X_gauss[:,1] = np.exp(-(x_peak - 2980)**2/(2*(25**2)))\n",
    "\n",
    "fig, ax = plt.subplots()\n",
    "ax.plot(x_peak, X_gauss[:,0])\n",
    "ax.plot(x_peak, X_gauss[:,1])"
   ]
  },
  {
   "cell_type": "markdown",
   "metadata": {},
   "source": [
    "You can review the derivation for polynomial regression and convince yourself that the math is all the same in this case, so we can solve for $\\beta_i$ in the same way, we just use the new $X_{ij}$ matrix:"
   ]
  },
  {
   "cell_type": "code",
   "execution_count": null,
   "metadata": {},
   "outputs": [],
   "source": [
    "A = np.dot(X_gauss.T, X_gauss)\n",
    "b = np.dot(X_gauss.T, y_peak)\n",
    "beta = np.linalg.solve(A,b)\n",
    "beta"
   ]
  },
  {
   "cell_type": "markdown",
   "metadata": {},
   "source": [
    "Let's see how we did:"
   ]
  },
  {
   "cell_type": "code",
   "execution_count": null,
   "metadata": {},
   "outputs": [],
   "source": [
    "yhat_peak = np.dot(X_gauss, beta)\n",
    "\n",
    "fig, ax = plt.subplots()\n",
    "ax.plot(x_peak, y_peak, 'or')\n",
    "ax.plot(x_peak, yhat_peak, '--k')\n",
    "ax.set_xlabel('wavenumber [cm^-1]')\n",
    "ax.set_ylabel('absorbance')"
   ]
  },
  {
   "cell_type": "markdown",
   "metadata": {},
   "source": [
    "This looks much better! There are still some discrepancies, but things are much closer.\n",
    "\n",
    "Let's see what happens if we add more Gaussian peaks. Instead of picking them manually, we can just use a set number of Gaussians with a fixed standard deviation, and space them evenly. We can write a function for this:"
   ]
  },
  {
   "cell_type": "code",
   "execution_count": null,
   "metadata": {},
   "outputs": [],
   "source": [
    "def gaussian_features(x, N , sigma = 25):\n",
    "    # x is a vector\n",
    "    # sigma is the standard deviation\n",
    "    xk_vec = np.linspace(min(x), max(x), N)\n",
    "    features = []\n",
    "    for xk in xk_vec:\n",
    "        features.append(np.exp(-((x - xk)**2/(2*sigma**2))))\n",
    "    return np.array(features).T"
   ]
  },
  {
   "cell_type": "code",
   "execution_count": null,
   "metadata": {},
   "outputs": [],
   "source": [
    "N = 20\n",
    "\n",
    "X_N = gaussian_features(x_peak, N) #generate features\n",
    "b_N = np.dot(X_N.T, y_peak) #generate b vector with new features\n",
    "A_N = np.dot(X_N.T, X_N) #generate A matrix with new features\n",
    "beta_N = np.linalg.solve(A_N, b_N) #solve Ax=b with new features\n",
    "print('beta = {}'.format(str(beta_N)))\n",
    "\n",
    "yhat_N = np.dot(X_N, beta_N) #compute predictions\n",
    "SSE_N = np.sum((y_peak - yhat_N)**2) #compute sum of squared errors\n",
    "SST_N = np.sum((y_peak - np.mean(y_peak))**2) #compute total sum of squares\n",
    "r2_N = (SST_N - SSE_N)/SST_N # compute r^2\n",
    "print('r^2 = {}'.format(r2_N))\n",
    "\n",
    "fig, ax = plt.subplots()\n",
    "ax.plot(x_peak, y_peak, 'or')\n",
    "ax.plot(x_peak, yhat_N, '--k')\n",
    "ax.set_xlabel('wavenumber [cm^-1]')\n",
    "ax.set_ylabel('absorbance')"
   ]
  },
  {
   "cell_type": "markdown",
   "metadata": {},
   "source": [
    "Now we see that the fit gets much better as more possible peaks are added. We can look at the $\\beta$ vector to see which peaks have large coefficients and use this to determine where peaks might be. However, there are a few problems with this approach:\n",
    "\n",
    "1) The peak width is fixed, so it may take multiple Gaussians to represent a wider peak.\n",
    "\n",
    "2) Some of the coefficients are negative, and we know that peaks should not have negative absorption."
   ]
  },
  {
   "cell_type": "markdown",
   "metadata": {},
   "source": [
    "## Non-linear Regression\n",
    "* Illustrate connection to Y=bX by replacing bX with f(x)\n",
    "* Discuss that this cannot be solved with linear algebra - start analytical solution?\n",
    "* Emphasize the concept of an objective function"
   ]
  },
  {
   "cell_type": "markdown",
   "metadata": {},
   "source": [
    "### Numerical optimization\n",
    "* Plot loss function as a function of single (non-linear) variable. (use example of a single peak?)\n",
    "* Introduce the idea of locally linearizing --> Newton's method\n",
    "* Introduce simple gradient descent\n",
    "* EXERCISE: Write a simple gradient descent function"
   ]
  },
  {
   "cell_type": "markdown",
   "metadata": {},
   "source": [
    "## Python Classes\n",
    "\n",
    "* Using scipy.optimize\n",
    "* Introduce scikit-learn"
   ]
  },
  {
   "cell_type": "markdown",
   "metadata": {},
   "source": [
    "# Case Study: Fitting peaks of infrared spectra"
   ]
  },
  {
   "cell_type": "code",
   "execution_count": null,
   "metadata": {},
   "outputs": [],
   "source": []
  },
  {
   "cell_type": "code",
   "execution_count": null,
   "metadata": {},
   "outputs": [],
   "source": []
  }
 ],
 "metadata": {
  "anaconda-cloud": {},
  "kernelspec": {
   "display_name": "Python 3",
   "language": "python",
   "name": "python3"
  },
  "language_info": {
   "codemirror_mode": {
    "name": "ipython",
    "version": 3
   },
   "file_extension": ".py",
   "mimetype": "text/x-python",
   "name": "python",
   "nbconvert_exporter": "python",
   "pygments_lexer": "ipython3",
   "version": "3.6.9"
  },
  "toc": {
   "base_numbering": 1,
   "nav_menu": {},
   "number_sections": true,
   "sideBar": true,
   "skip_h1_title": true,
   "title_cell": "Table of Contents",
   "title_sidebar": "Contents",
   "toc_cell": true,
   "toc_position": {},
   "toc_section_display": true,
   "toc_window_display": true
  }
 },
 "nbformat": 4,
 "nbformat_minor": 2
}
