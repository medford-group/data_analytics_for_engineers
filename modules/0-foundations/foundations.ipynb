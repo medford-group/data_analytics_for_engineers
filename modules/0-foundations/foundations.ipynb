{
 "cells": [
  {
   "cell_type": "markdown",
   "metadata": {},
   "source": [
    "# Foundations of Data Analytics\n",
    "* Linear algebra\n",
    "* Least squares regression\n",
    "* Python\n",
    "* Co-variance\n",
    "* Eigenvalues\n",
    "* Optimization"
   ]
  },
  {
   "cell_type": "markdown",
   "metadata": {},
   "source": [
    "## Linear Least-Squares Regression\n",
    "* Introduce y = mx+b\n",
    "* Derive by hand"
   ]
  },
  {
   "cell_type": "markdown",
   "metadata": {},
   "source": [
    "### Importing Libraries and Managing Environments\n",
    "* Discuss numpy, scipy, matplotlib\n",
    "* Plot example of y=mx+b"
   ]
  },
  {
   "cell_type": "markdown",
   "metadata": {},
   "source": [
    "## Polynomial Least-Squares Regression\n",
    " * Introduce vector form of Y=bX (discuss intercept)"
   ]
  },
  {
   "cell_type": "markdown",
   "metadata": {},
   "source": [
    "### Matrix Algebra\n",
    "* Reminder of rules of matrix multiplication/algebra\n",
    "* Matrix algebra notations\n",
    "* Derive polynomial regression to Ax=b"
   ]
  },
  {
   "cell_type": "markdown",
   "metadata": {},
   "source": [
    "### Python functions\n",
    "* EXERCISE: Write a function that multiplies two matrices using nothing but for loops (include test)"
   ]
  },
  {
   "cell_type": "markdown",
   "metadata": {},
   "source": [
    "### Linear Systems of Equations\n",
    "* Show solve function in numpy\n",
    "* EXERCISE: Write a function to perform Gauss-Jordan elmination (include test)\n",
    "* Discuss over/under constrained: plot solution for polynomial regression as a function of number of polynomials\n",
    "(approximate end of first lecture)"
   ]
  },
  {
   "cell_type": "markdown",
   "metadata": {},
   "source": [
    "## Eigenvalues and Singular Values\n",
    "* Discuss ill-conditioned or non-invertable matrices (hopefully create one with above example)\n",
    "* Linear systems can also be solved using singular value decomposition\n",
    "* Introduce the concept of matrix \"rank\", make connection to over/under constrained"
   ]
  },
  {
   "cell_type": "markdown",
   "metadata": {},
   "source": [
    "## Covariance matrices\n",
    "* Covariance is another way of thinking about linear independence\n",
    "* Show covariance for polynomial features, discuss ill-conditioning\n",
    "* Introduce Legendre polynomials\n",
    "* EXERCISE: Write a function to create orthonormal bases through Graham-Schmidt projections (test for Legendre)\n",
    "* Show that covariance is reduced with Legendre polynomials, and solutions are more stable."
   ]
  },
  {
   "cell_type": "markdown",
   "metadata": {},
   "source": [
    "## Generalized Least Squares\n",
    "* Introduce the idea of using bases other than polynomials for Y=bX\n",
    "* Illustrate using Gaussians to fit peaks"
   ]
  },
  {
   "cell_type": "markdown",
   "metadata": {},
   "source": [
    "## Non-linear Regression\n",
    "* Illustrate connection to Y=bX by replacing bX with f(x)\n",
    "* Discuss that this cannot be solved with linear algebra - start analytical solution?\n",
    "* Emphasize the concept of an objective function"
   ]
  },
  {
   "cell_type": "markdown",
   "metadata": {},
   "source": [
    "### Numerical optimization\n",
    "* Plot loss function as a function of single (non-linear) variable. (use example of a single peak?)\n",
    "* Introduce the idea of locally linearizing --> Newton's method\n",
    "* Introduce simple gradient descent\n",
    "* EXERCISE: Write a simple gradient descent function"
   ]
  },
  {
   "cell_type": "markdown",
   "metadata": {},
   "source": [
    "# Case Study: Fitting peaks of infrared spectra"
   ]
  },
  {
   "cell_type": "code",
   "execution_count": null,
   "metadata": {},
   "outputs": [],
   "source": []
  },
  {
   "cell_type": "code",
   "execution_count": null,
   "metadata": {},
   "outputs": [],
   "source": []
  }
 ],
 "metadata": {
  "kernelspec": {
   "display_name": "Python 3",
   "language": "python",
   "name": "python3"
  },
  "language_info": {
   "codemirror_mode": {
    "name": "ipython",
    "version": 3
   },
   "file_extension": ".py",
   "mimetype": "text/x-python",
   "name": "python",
   "nbconvert_exporter": "python",
   "pygments_lexer": "ipython3",
   "version": "3.6.9"
  }
 },
 "nbformat": 4,
 "nbformat_minor": 2
}
