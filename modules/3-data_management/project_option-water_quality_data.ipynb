{
 "cells": [
  {
   "cell_type": "markdown",
   "metadata": {},
   "source": [
    "# Final Project: Water Quality Analysis\n",
    "\n",
    "In this project you will use data from the [National Water Quality Monitoring Council](https://www.waterqualitydata.us/), along with any other relevant sources, to construct a data analysis tool to assist community partners at the [West Atlanta Watershed Alliance](http://wawa-online.org/) (WAWA). You will need to work with liasons in the [Serve-Learn-Sustain program](https://serve-learn-sustain.gatech.edu/) to coordinate with partners at WAWA and align project goals with community needs, and you will need to work with instructors to ensure that the proposed project illustrates mastery of data analytics techniques. The must contain the following elements.\n",
    "\n",
    "* Gathering and curating a dataset for analysis from the [National Water Quality Monitoring Council](https://www.waterqualitydata.us/).\n",
    "\n",
    "* Defining a problem based on this dataset that can be solved using one or more of the algorithm types described in the class (classification, regression, dimensional reduction, clustering)\n",
    "\n",
    "* Well-documented workflow that can be utilized by others."
   ]
  }
 ],
 "metadata": {
  "kernelspec": {
   "display_name": "Python 3",
   "language": "python",
   "name": "python3"
  },
  "language_info": {
   "codemirror_mode": {
    "name": "ipython",
    "version": 3
   },
   "file_extension": ".py",
   "mimetype": "text/x-python",
   "name": "python",
   "nbconvert_exporter": "python",
   "pygments_lexer": "ipython3",
   "version": "3.6.3"
  },
  "toc": {
   "base_numbering": 1,
   "nav_menu": {},
   "number_sections": true,
   "sideBar": true,
   "skip_h1_title": true,
   "title_cell": "Table of Contents",
   "title_sidebar": "Contents",
   "toc_cell": true,
   "toc_position": {},
   "toc_section_display": true,
   "toc_window_display": false
  }
 },
 "nbformat": 4,
 "nbformat_minor": 2
}
